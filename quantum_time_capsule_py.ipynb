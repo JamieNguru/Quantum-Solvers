{
  "nbformat": 4,
  "nbformat_minor": 0,
  "metadata": {
    "colab": {
      "provenance": [],
      "include_colab_link": true
    },
    "kernelspec": {
      "name": "python3",
      "display_name": "Python 3"
    },
    "language_info": {
      "name": "python"
    }
  },
  "cells": [
    {
      "cell_type": "markdown",
      "metadata": {
        "id": "view-in-github",
        "colab_type": "text"
      },
      "source": [
        "<a href=\"https://colab.research.google.com/github/JamieNguru/Quantum-Solvers/blob/main/quantum_time_capsule_py.ipynb\" target=\"_parent\"><img src=\"https://colab.research.google.com/assets/colab-badge.svg\" alt=\"Open In Colab\"/></a>"
      ]
    },
    {
      "cell_type": "markdown",
      "source": [],
      "metadata": {
        "id": "gAF6_VEYBCVR"
      }
    },
    {
      "cell_type": "code",
      "execution_count": null,
      "metadata": {
        "colab": {
          "base_uri": "https://localhost:8080/"
        },
        "id": "M84JWtdGdXcc",
        "outputId": "75d800e9-714d-470a-851b-9b746d44add2"
      },
      "outputs": [
        {
          "output_type": "stream",
          "name": "stdout",
          "text": [
            "Requirement already satisfied: qiskit in /usr/local/lib/python3.12/dist-packages (2.2.2)\n",
            "Collecting qiskit-ibm-runtime\n",
            "  Downloading qiskit_ibm_runtime-0.43.0-py3-none-any.whl.metadata (21 kB)\n",
            "Requirement already satisfied: rustworkx>=0.15.0 in /usr/local/lib/python3.12/dist-packages (from qiskit) (0.17.1)\n",
            "Requirement already satisfied: numpy<3,>=1.17 in /usr/local/lib/python3.12/dist-packages (from qiskit) (2.0.2)\n",
            "Requirement already satisfied: scipy>=1.5 in /usr/local/lib/python3.12/dist-packages (from qiskit) (1.16.2)\n",
            "Requirement already satisfied: dill>=0.3 in /usr/local/lib/python3.12/dist-packages (from qiskit) (0.3.8)\n",
            "Requirement already satisfied: stevedore>=3.0.0 in /usr/local/lib/python3.12/dist-packages (from qiskit) (5.5.0)\n",
            "Requirement already satisfied: typing-extensions in /usr/local/lib/python3.12/dist-packages (from qiskit) (4.15.0)\n",
            "Requirement already satisfied: requests>=2.19 in /usr/local/lib/python3.12/dist-packages (from qiskit-ibm-runtime) (2.32.4)\n",
            "Collecting requests-ntlm>=1.1.0 (from qiskit-ibm-runtime)\n",
            "  Downloading requests_ntlm-1.3.0-py3-none-any.whl.metadata (2.4 kB)\n",
            "Requirement already satisfied: urllib3>=1.21.1 in /usr/local/lib/python3.12/dist-packages (from qiskit-ibm-runtime) (2.5.0)\n",
            "Requirement already satisfied: python-dateutil>=2.8.0 in /usr/local/lib/python3.12/dist-packages (from qiskit-ibm-runtime) (2.9.0.post0)\n",
            "Collecting ibm-platform-services>=0.22.6 (from qiskit-ibm-runtime)\n",
            "  Downloading ibm_platform_services-0.69.0-py3-none-any.whl.metadata (9.0 kB)\n",
            "Requirement already satisfied: pydantic>=2.5.0 in /usr/local/lib/python3.12/dist-packages (from qiskit-ibm-runtime) (2.11.10)\n",
            "Requirement already satisfied: packaging in /usr/local/lib/python3.12/dist-packages (from qiskit-ibm-runtime) (25.0)\n",
            "Collecting ibm_cloud_sdk_core<4.0.0,>=3.24.2 (from ibm-platform-services>=0.22.6->qiskit-ibm-runtime)\n",
            "  Downloading ibm_cloud_sdk_core-3.24.2-py3-none-any.whl.metadata (8.7 kB)\n",
            "Requirement already satisfied: annotated-types>=0.6.0 in /usr/local/lib/python3.12/dist-packages (from pydantic>=2.5.0->qiskit-ibm-runtime) (0.7.0)\n",
            "Requirement already satisfied: pydantic-core==2.33.2 in /usr/local/lib/python3.12/dist-packages (from pydantic>=2.5.0->qiskit-ibm-runtime) (2.33.2)\n",
            "Requirement already satisfied: typing-inspection>=0.4.0 in /usr/local/lib/python3.12/dist-packages (from pydantic>=2.5.0->qiskit-ibm-runtime) (0.4.2)\n",
            "Requirement already satisfied: six>=1.5 in /usr/local/lib/python3.12/dist-packages (from python-dateutil>=2.8.0->qiskit-ibm-runtime) (1.17.0)\n",
            "Requirement already satisfied: charset_normalizer<4,>=2 in /usr/local/lib/python3.12/dist-packages (from requests>=2.19->qiskit-ibm-runtime) (3.4.4)\n",
            "Requirement already satisfied: idna<4,>=2.5 in /usr/local/lib/python3.12/dist-packages (from requests>=2.19->qiskit-ibm-runtime) (3.11)\n",
            "Requirement already satisfied: certifi>=2017.4.17 in /usr/local/lib/python3.12/dist-packages (from requests>=2.19->qiskit-ibm-runtime) (2025.10.5)\n",
            "Requirement already satisfied: cryptography>=1.3 in /usr/local/lib/python3.12/dist-packages (from requests-ntlm>=1.1.0->qiskit-ibm-runtime) (43.0.3)\n",
            "Collecting pyspnego>=0.4.0 (from requests-ntlm>=1.1.0->qiskit-ibm-runtime)\n",
            "  Downloading pyspnego-0.12.0-py3-none-any.whl.metadata (4.1 kB)\n",
            "Requirement already satisfied: cffi>=1.12 in /usr/local/lib/python3.12/dist-packages (from cryptography>=1.3->requests-ntlm>=1.1.0->qiskit-ibm-runtime) (2.0.0)\n",
            "Requirement already satisfied: PyJWT<3.0.0,>=2.10.1 in /usr/local/lib/python3.12/dist-packages (from ibm_cloud_sdk_core<4.0.0,>=3.24.2->ibm-platform-services>=0.22.6->qiskit-ibm-runtime) (2.10.1)\n",
            "Requirement already satisfied: pycparser in /usr/local/lib/python3.12/dist-packages (from cffi>=1.12->cryptography>=1.3->requests-ntlm>=1.1.0->qiskit-ibm-runtime) (2.23)\n",
            "Downloading qiskit_ibm_runtime-0.43.0-py3-none-any.whl (1.4 MB)\n",
            "\u001b[2K   \u001b[90m━━━━━━━━━━━━━━━━━━━━━━━━━━━━━━━━━━━━━━━━\u001b[0m \u001b[32m1.4/1.4 MB\u001b[0m \u001b[31m40.3 MB/s\u001b[0m eta \u001b[36m0:00:00\u001b[0m\n",
            "\u001b[?25hDownloading ibm_platform_services-0.69.0-py3-none-any.whl (368 kB)\n",
            "\u001b[2K   \u001b[90m━━━━━━━━━━━━━━━━━━━━━━━━━━━━━━━━━━━━━━━━\u001b[0m \u001b[32m368.7/368.7 kB\u001b[0m \u001b[31m27.2 MB/s\u001b[0m eta \u001b[36m0:00:00\u001b[0m\n",
            "\u001b[?25hDownloading requests_ntlm-1.3.0-py3-none-any.whl (6.6 kB)\n",
            "Downloading ibm_cloud_sdk_core-3.24.2-py3-none-any.whl (75 kB)\n",
            "\u001b[2K   \u001b[90m━━━━━━━━━━━━━━━━━━━━━━━━━━━━━━━━━━━━━━━━\u001b[0m \u001b[32m75.8/75.8 kB\u001b[0m \u001b[31m5.9 MB/s\u001b[0m eta \u001b[36m0:00:00\u001b[0m\n",
            "\u001b[?25hDownloading pyspnego-0.12.0-py3-none-any.whl (130 kB)\n",
            "\u001b[2K   \u001b[90m━━━━━━━━━━━━━━━━━━━━━━━━━━━━━━━━━━━━━━━━\u001b[0m \u001b[32m130.2/130.2 kB\u001b[0m \u001b[31m9.6 MB/s\u001b[0m eta \u001b[36m0:00:00\u001b[0m\n",
            "\u001b[?25hInstalling collected packages: ibm_cloud_sdk_core, pyspnego, ibm-platform-services, requests-ntlm, qiskit-ibm-runtime\n",
            "Successfully installed ibm-platform-services-0.69.0 ibm_cloud_sdk_core-3.24.2 pyspnego-0.12.0 qiskit-ibm-runtime-0.43.0 requests-ntlm-1.3.0\n"
          ]
        }
      ],
      "source": [
        "%pip install qiskit qiskit-ibm-runtime\n"
      ]
    },
    {
      "cell_type": "code",
      "source": [
        "!pip install qiskit streamlit gTTS matplotlib pyngrok\n"
      ],
      "metadata": {
        "colab": {
          "base_uri": "https://localhost:8080/"
        },
        "id": "7-6EV3EKB2Kx",
        "outputId": "9afef280-120c-4caa-d054-5a1bab402308"
      },
      "execution_count": null,
      "outputs": [
        {
          "output_type": "stream",
          "name": "stdout",
          "text": [
            "Requirement already satisfied: qiskit in /usr/local/lib/python3.12/dist-packages (2.2.2)\n",
            "Collecting streamlit\n",
            "  Downloading streamlit-1.50.0-py3-none-any.whl.metadata (9.5 kB)\n",
            "Collecting gTTS\n",
            "  Downloading gTTS-2.5.4-py3-none-any.whl.metadata (4.1 kB)\n",
            "Requirement already satisfied: matplotlib in /usr/local/lib/python3.12/dist-packages (3.10.0)\n",
            "Collecting pyngrok\n",
            "  Downloading pyngrok-7.4.0-py3-none-any.whl.metadata (8.1 kB)\n",
            "Requirement already satisfied: rustworkx>=0.15.0 in /usr/local/lib/python3.12/dist-packages (from qiskit) (0.17.1)\n",
            "Requirement already satisfied: numpy<3,>=1.17 in /usr/local/lib/python3.12/dist-packages (from qiskit) (2.0.2)\n",
            "Requirement already satisfied: scipy>=1.5 in /usr/local/lib/python3.12/dist-packages (from qiskit) (1.16.2)\n",
            "Requirement already satisfied: dill>=0.3 in /usr/local/lib/python3.12/dist-packages (from qiskit) (0.3.8)\n",
            "Requirement already satisfied: stevedore>=3.0.0 in /usr/local/lib/python3.12/dist-packages (from qiskit) (5.5.0)\n",
            "Requirement already satisfied: typing-extensions in /usr/local/lib/python3.12/dist-packages (from qiskit) (4.15.0)\n",
            "Requirement already satisfied: altair!=5.4.0,!=5.4.1,<6,>=4.0 in /usr/local/lib/python3.12/dist-packages (from streamlit) (5.5.0)\n",
            "Requirement already satisfied: blinker<2,>=1.5.0 in /usr/local/lib/python3.12/dist-packages (from streamlit) (1.9.0)\n",
            "Requirement already satisfied: cachetools<7,>=4.0 in /usr/local/lib/python3.12/dist-packages (from streamlit) (5.5.2)\n",
            "Requirement already satisfied: click<9,>=7.0 in /usr/local/lib/python3.12/dist-packages (from streamlit) (8.3.0)\n",
            "Requirement already satisfied: packaging<26,>=20 in /usr/local/lib/python3.12/dist-packages (from streamlit) (25.0)\n",
            "Requirement already satisfied: pandas<3,>=1.4.0 in /usr/local/lib/python3.12/dist-packages (from streamlit) (2.2.2)\n",
            "Requirement already satisfied: pillow<12,>=7.1.0 in /usr/local/lib/python3.12/dist-packages (from streamlit) (11.3.0)\n",
            "Requirement already satisfied: protobuf<7,>=3.20 in /usr/local/lib/python3.12/dist-packages (from streamlit) (5.29.5)\n",
            "Requirement already satisfied: pyarrow>=7.0 in /usr/local/lib/python3.12/dist-packages (from streamlit) (18.1.0)\n",
            "Requirement already satisfied: requests<3,>=2.27 in /usr/local/lib/python3.12/dist-packages (from streamlit) (2.32.4)\n",
            "Requirement already satisfied: tenacity<10,>=8.1.0 in /usr/local/lib/python3.12/dist-packages (from streamlit) (8.5.0)\n",
            "Requirement already satisfied: toml<2,>=0.10.1 in /usr/local/lib/python3.12/dist-packages (from streamlit) (0.10.2)\n",
            "Requirement already satisfied: watchdog<7,>=2.1.5 in /usr/local/lib/python3.12/dist-packages (from streamlit) (6.0.0)\n",
            "Requirement already satisfied: gitpython!=3.1.19,<4,>=3.0.7 in /usr/local/lib/python3.12/dist-packages (from streamlit) (3.1.45)\n",
            "Collecting pydeck<1,>=0.8.0b4 (from streamlit)\n",
            "  Downloading pydeck-0.9.1-py2.py3-none-any.whl.metadata (4.1 kB)\n",
            "Requirement already satisfied: tornado!=6.5.0,<7,>=6.0.3 in /usr/local/lib/python3.12/dist-packages (from streamlit) (6.5.1)\n",
            "Collecting click<9,>=7.0 (from streamlit)\n",
            "  Downloading click-8.1.8-py3-none-any.whl.metadata (2.3 kB)\n",
            "Requirement already satisfied: contourpy>=1.0.1 in /usr/local/lib/python3.12/dist-packages (from matplotlib) (1.3.3)\n",
            "Requirement already satisfied: cycler>=0.10 in /usr/local/lib/python3.12/dist-packages (from matplotlib) (0.12.1)\n",
            "Requirement already satisfied: fonttools>=4.22.0 in /usr/local/lib/python3.12/dist-packages (from matplotlib) (4.60.1)\n",
            "Requirement already satisfied: kiwisolver>=1.3.1 in /usr/local/lib/python3.12/dist-packages (from matplotlib) (1.4.9)\n",
            "Requirement already satisfied: pyparsing>=2.3.1 in /usr/local/lib/python3.12/dist-packages (from matplotlib) (3.2.5)\n",
            "Requirement already satisfied: python-dateutil>=2.7 in /usr/local/lib/python3.12/dist-packages (from matplotlib) (2.9.0.post0)\n",
            "Requirement already satisfied: PyYAML>=5.1 in /usr/local/lib/python3.12/dist-packages (from pyngrok) (6.0.3)\n",
            "Requirement already satisfied: jinja2 in /usr/local/lib/python3.12/dist-packages (from altair!=5.4.0,!=5.4.1,<6,>=4.0->streamlit) (3.1.6)\n",
            "Requirement already satisfied: jsonschema>=3.0 in /usr/local/lib/python3.12/dist-packages (from altair!=5.4.0,!=5.4.1,<6,>=4.0->streamlit) (4.25.1)\n",
            "Requirement already satisfied: narwhals>=1.14.2 in /usr/local/lib/python3.12/dist-packages (from altair!=5.4.0,!=5.4.1,<6,>=4.0->streamlit) (2.8.0)\n",
            "Requirement already satisfied: gitdb<5,>=4.0.1 in /usr/local/lib/python3.12/dist-packages (from gitpython!=3.1.19,<4,>=3.0.7->streamlit) (4.0.12)\n",
            "Requirement already satisfied: pytz>=2020.1 in /usr/local/lib/python3.12/dist-packages (from pandas<3,>=1.4.0->streamlit) (2025.2)\n",
            "Requirement already satisfied: tzdata>=2022.7 in /usr/local/lib/python3.12/dist-packages (from pandas<3,>=1.4.0->streamlit) (2025.2)\n",
            "Requirement already satisfied: six>=1.5 in /usr/local/lib/python3.12/dist-packages (from python-dateutil>=2.7->matplotlib) (1.17.0)\n",
            "Requirement already satisfied: charset_normalizer<4,>=2 in /usr/local/lib/python3.12/dist-packages (from requests<3,>=2.27->streamlit) (3.4.4)\n",
            "Requirement already satisfied: idna<4,>=2.5 in /usr/local/lib/python3.12/dist-packages (from requests<3,>=2.27->streamlit) (3.11)\n",
            "Requirement already satisfied: urllib3<3,>=1.21.1 in /usr/local/lib/python3.12/dist-packages (from requests<3,>=2.27->streamlit) (2.5.0)\n",
            "Requirement already satisfied: certifi>=2017.4.17 in /usr/local/lib/python3.12/dist-packages (from requests<3,>=2.27->streamlit) (2025.10.5)\n",
            "Requirement already satisfied: smmap<6,>=3.0.1 in /usr/local/lib/python3.12/dist-packages (from gitdb<5,>=4.0.1->gitpython!=3.1.19,<4,>=3.0.7->streamlit) (5.0.2)\n",
            "Requirement already satisfied: MarkupSafe>=2.0 in /usr/local/lib/python3.12/dist-packages (from jinja2->altair!=5.4.0,!=5.4.1,<6,>=4.0->streamlit) (3.0.3)\n",
            "Requirement already satisfied: attrs>=22.2.0 in /usr/local/lib/python3.12/dist-packages (from jsonschema>=3.0->altair!=5.4.0,!=5.4.1,<6,>=4.0->streamlit) (25.4.0)\n",
            "Requirement already satisfied: jsonschema-specifications>=2023.03.6 in /usr/local/lib/python3.12/dist-packages (from jsonschema>=3.0->altair!=5.4.0,!=5.4.1,<6,>=4.0->streamlit) (2025.9.1)\n",
            "Requirement already satisfied: referencing>=0.28.4 in /usr/local/lib/python3.12/dist-packages (from jsonschema>=3.0->altair!=5.4.0,!=5.4.1,<6,>=4.0->streamlit) (0.37.0)\n",
            "Requirement already satisfied: rpds-py>=0.7.1 in /usr/local/lib/python3.12/dist-packages (from jsonschema>=3.0->altair!=5.4.0,!=5.4.1,<6,>=4.0->streamlit) (0.27.1)\n",
            "Downloading streamlit-1.50.0-py3-none-any.whl (10.1 MB)\n",
            "\u001b[2K   \u001b[90m━━━━━━━━━━━━━━━━━━━━━━━━━━━━━━━━━━━━━━━━\u001b[0m \u001b[32m10.1/10.1 MB\u001b[0m \u001b[31m54.5 MB/s\u001b[0m eta \u001b[36m0:00:00\u001b[0m\n",
            "\u001b[?25hDownloading gTTS-2.5.4-py3-none-any.whl (29 kB)\n",
            "Downloading pyngrok-7.4.0-py3-none-any.whl (25 kB)\n",
            "Downloading click-8.1.8-py3-none-any.whl (98 kB)\n",
            "\u001b[2K   \u001b[90m━━━━━━━━━━━━━━━━━━━━━━━━━━━━━━━━━━━━━━━━\u001b[0m \u001b[32m98.2/98.2 kB\u001b[0m \u001b[31m5.3 MB/s\u001b[0m eta \u001b[36m0:00:00\u001b[0m\n",
            "\u001b[?25hDownloading pydeck-0.9.1-py2.py3-none-any.whl (6.9 MB)\n",
            "\u001b[2K   \u001b[90m━━━━━━━━━━━━━━━━━━━━━━━━━━━━━━━━━━━━━━━━\u001b[0m \u001b[32m6.9/6.9 MB\u001b[0m \u001b[31m85.0 MB/s\u001b[0m eta \u001b[36m0:00:00\u001b[0m\n",
            "\u001b[?25hInstalling collected packages: pyngrok, click, pydeck, gTTS, streamlit\n",
            "  Attempting uninstall: click\n",
            "    Found existing installation: click 8.3.0\n",
            "    Uninstalling click-8.3.0:\n",
            "      Successfully uninstalled click-8.3.0\n",
            "Successfully installed click-8.1.8 gTTS-2.5.4 pydeck-0.9.1 pyngrok-7.4.0 streamlit-1.50.0\n"
          ]
        }
      ]
    },
    {
      "cell_type": "code",
      "source": [
        "import os\n",
        "\n",
        "# Define base and subfolder paths\n",
        "BASE_DIR = '/content/quantum_time_capsule'\n",
        "ASSETS_DIR = os.path.join(BASE_DIR, 'assets')\n",
        "\n",
        "# Create the folders if they don't exist\n",
        "os.makedirs(ASSETS_DIR, exist_ok=True)\n",
        "\n",
        "# Confirm\n",
        "print(\"Project folder created at:\", BASE_DIR)\n",
        "print(\"Assets folder created at:\", ASSETS_DIR)\n"
      ],
      "metadata": {
        "colab": {
          "base_uri": "https://localhost:8080/"
        },
        "id": "vwrRCjl8IdIo",
        "outputId": "ad1814f0-5748-4dc5-e5c0-b4af45031875"
      },
      "execution_count": null,
      "outputs": [
        {
          "output_type": "stream",
          "name": "stdout",
          "text": [
            "Project folder created at: /content/quantum_time_capsule\n",
            "Assets folder created at: /content/quantum_time_capsule/assets\n"
          ]
        }
      ]
    },
    {
      "cell_type": "code",
      "source": [
        "%%writefile /content/quantum_time_capsule/quantum_scenes.py\n",
        "print(\"Hello from quantum_scenes.py\")\n"
      ],
      "metadata": {
        "colab": {
          "base_uri": "https://localhost:8080/"
        },
        "id": "QmAdROSRI04x",
        "outputId": "ad7ceb55-b1ba-48b0-f410-5b96ee631773"
      },
      "execution_count": null,
      "outputs": [
        {
          "output_type": "stream",
          "name": "stdout",
          "text": [
            "Writing /content/quantum_time_capsule/quantum_scenes.py\n"
          ]
        }
      ]
    },
    {
      "cell_type": "code",
      "source": [
        "%%writefile /content/quantum_time_capsule/app.py\n",
        "print(\"Hello from Streamlit app\")\n"
      ],
      "metadata": {
        "colab": {
          "base_uri": "https://localhost:8080/"
        },
        "id": "eKkgxtFPJF-a",
        "outputId": "d3b0bfde-9aa0-4967-ff48-06f3c992e71a"
      },
      "execution_count": null,
      "outputs": [
        {
          "output_type": "stream",
          "name": "stdout",
          "text": [
            "Writing /content/quantum_time_capsule/app.py\n"
          ]
        }
      ]
    },
    {
      "cell_type": "code",
      "source": [
        "!pip install qiskit qiskit-aer --quiet\n"
      ],
      "metadata": {
        "id": "vZxeMgrnZRLT"
      },
      "execution_count": null,
      "outputs": []
    },
    {
      "cell_type": "code",
      "source": [
        "%%writefile /content/quantum_time_capsule/quantum_scenes.py\n",
        "\n",
        "from qiskit import QuantumCircuit, transpile\n",
        "from qiskit_aer import Aer\n",
        "from qiskit.visualization import plot_histogram\n",
        "from qiskit_aer import Aer, AerSimulator\n",
        "import matplotlib\n",
        "matplotlib.use(\"Agg\")  # ensure non-GUI backend\n",
        "import matplotlib.pyplot as plt\n",
        "import os, random\n",
        "from collections import OrderedDict\n",
        "\n",
        "# Initialize backend\n",
        "try:\n",
        "    _BACKEND = Aer.get_backend('aer_simulator')\n",
        "except Exception:\n",
        "    _BACKEND = Aer.get_backend('qasm_simulator')\n",
        "\n",
        "BASE_DIR = '/content/quantum_time_capsule'\n",
        "ASSETS_DIR = os.path.join(BASE_DIR, 'assets')\n",
        "circuit_path = os.path.join(ASSETS_DIR, 'double_slit_circuit.png')\n",
        "os.makedirs(ASSETS_DIR, exist_ok=True)\n",
        "\n",
        "# Base paths (allow override with env var)\n",
        "BASE_DIR = os.environ.get('QT_CAPSULE_DIR', '/content/quantum_time_capsule')\n",
        "ASSETS_DIR = os.path.join(BASE_DIR, 'assets')\n",
        "os.makedirs(ASSETS_DIR, exist_ok=True)\n",
        "\n",
        "\n",
        "def _save_histogram(counts, filepath):\n",
        "    \"\"\"\n",
        "    Try plot_histogram; if that fails, draw a simple matplotlib bar plot.\n",
        "    Returns the matplotlib.figure.Figure instance.\n",
        "    \"\"\"\n",
        "    try:\n",
        "        fig = plot_histogram(counts)\n",
        "        fig.savefig(filepath, bbox_inches='tight')\n",
        "        # don't close — caller may want to return fig to Streamlit\n",
        "        return fig\n",
        "    except Exception:\n",
        "        labels = list(counts.keys())\n",
        "        values = [counts[k] for k in labels]\n",
        "        fig, ax = plt.subplots()\n",
        "        ax.bar(labels, values)\n",
        "        ax.set_xlabel('Outcome')\n",
        "        ax.set_ylabel('Counts')\n",
        "        plt.tight_layout()\n",
        "        fig.savefig(filepath)\n",
        "        return fig\n",
        "\n",
        "\n",
        "def _save_circuit(qc, filepath):\n",
        "    \"\"\"\n",
        "    Save a quantum circuit as an image (if matplotlib drawer works),\n",
        "    otherwise fall back to ASCII text.\n",
        "    \"\"\"\n",
        "    try:\n",
        "        circ_fig = qc.draw(output='mpl', scale=1.2)\n",
        "        circ_fig.savefig(filepath, bbox_inches='tight')\n",
        "        print(f\"✅ Saved circuit image to {os.path.abspath(filepath)}\")\n",
        "        return filepath\n",
        "    except Exception as e:\n",
        "        print(\"⚠️ Circuit image save failed:\", e)\n",
        "        txt_path = filepath.rsplit('.', 1)[0] + '.txt'\n",
        "        try:\n",
        "            ascii_drawing = qc.draw(output='text').single_string()\n",
        "        except Exception:\n",
        "            ascii_drawing = str(qc.draw(output='text'))\n",
        "        with open(txt_path, 'w') as f:\n",
        "            f.write(ascii_drawing)\n",
        "        print(f\"📝 Saved ASCII fallback to {os.path.abspath(txt_path)}\")\n",
        "        return txt_path\n",
        "\n",
        "def run_double_slit(shots=1024, save=True):\n",
        "    \"\"\"\n",
        "    1927 — Double-slit (single qubit superposition).\n",
        "    Returns: (fig, histogram_path, circuit_path, {'counts': counts})\n",
        "    \"\"\"\n",
        "    if _BACKEND is None:\n",
        "        raise RuntimeError(\"No Aer backend available. Install qiskit Aer.\")\n",
        "\n",
        "    qc = QuantumCircuit(1, 1)\n",
        "    qc.h(0)\n",
        "    qc.measure(0, 0)\n",
        "\n",
        "    # execute\n",
        "    compiled = transpile(qc, _BACKEND)\n",
        "    job = _BACKEND.run(compiled, shots=shots)\n",
        "    result = job.result()\n",
        "    counts = result.get_counts()\n",
        "\n",
        "    # Save histogram + circuit drawing\n",
        "    hist_path = os.path.join(ASSETS_DIR, 'double_slit_hist.png') if save else None\n",
        "    circuit_path = os.path.join(ASSETS_DIR, 'double_slit_circuit.png') if save else None\n",
        "\n",
        "    fig = None\n",
        "    if save and hist_path:\n",
        "        fig = _save_histogram(counts, hist_path)\n",
        "    else:\n",
        "        fig = plot_histogram(counts)\n",
        "\n",
        "    if save and circuit_path:\n",
        "        _save_circuit(qc, circuit_path)\n",
        "\n",
        "    return fig, hist_path, circuit_path, {'counts': counts}\n",
        "\n",
        "\n",
        "def run_cat(shots=1, dist_shots=1024, save=True):\n",
        "    \"\"\"\n",
        "    1935 — Schrödinger's Cat (use one qubit measurement as the 'box').\n",
        "    shots: number of shots for the actual 'single measurement' (default 1).\n",
        "    dist_shots: number of shots used to create a distribution/histogram for visualization.\n",
        "    Returns: (fig_dist, hist_path, circuit_path, result_str)\n",
        "    \"\"\"\n",
        "    if _BACKEND is None:\n",
        "        raise RuntimeError(\"No Aer backend available. Install qiskit Aer.\")\n",
        "\n",
        "    # Circuit for the single-shot experiment\n",
        "    qc = QuantumCircuit(1, 1)\n",
        "    qc.h(0)          # create superposition\n",
        "    qc.measure(0, 0)\n",
        "\n",
        "    # Single-shot measurement to decide alive/dead\n",
        "    compiled_single = transpile(qc, _BACKEND)\n",
        "    job_single = _BACKEND.run(compiled_single, shots=shots)\n",
        "    res_single = job_single.result()\n",
        "    counts_single = res_single.get_counts()\n",
        "    # get single-shot outcome (if shots>1 returns counts; we interpret by sampling)\n",
        "    single_key = next(iter(counts_single.keys()))\n",
        "    result = \"Alive 🟢\" if single_key == '0' else \"Dead 🔴\"\n",
        "\n",
        "    # Distribution for visualization\n",
        "    compiled_dist = transpile(qc, _BACKEND)\n",
        "    job_dist = _BACKEND.run(compiled_dist, shots=dist_shots)\n",
        "    res_dist = job_dist.result()\n",
        "    counts_dist = res_dist.get_counts()\n",
        "\n",
        "    hist_path = os.path.join(ASSETS_DIR, 'cat_distribution_hist.png') if save else None\n",
        "    circuit_path = os.path.join(ASSETS_DIR, 'cat_circuit.png') if save else None\n",
        "\n",
        "    fig = None\n",
        "    if save and hist_path:\n",
        "        fig = _save_histogram(counts_dist, hist_path)\n",
        "    else:\n",
        "        fig = plot_histogram(counts_dist)\n",
        "\n",
        "    if save and circuit_path:\n",
        "        _save_circuit(qc, circuit_path)\n",
        "\n",
        "    return fig, hist_path, circuit_path, result\n",
        "\n",
        "\n",
        "def run_bell(shots=1024, save=True):\n",
        "    \"\"\"\n",
        "    1964 — Bell pair (entanglement).\n",
        "    Produces a Bell state and measures both qubits. Expect correlated 00/11.\n",
        "    Returns: (fig, hist_path, circuit_path, {'counts': counts, 'correlation': percentage})\n",
        "    \"\"\"\n",
        "    if _BACKEND is None:\n",
        "        raise RuntimeError(\"No Aer backend available. Install qiskit Aer.\")\n",
        "\n",
        "    qc = QuantumCircuit(2, 2)\n",
        "    qc.h(0)\n",
        "    qc.cx(0, 1)\n",
        "    qc.measure([0, 1], [0, 1])\n",
        "\n",
        "    compiled = transpile(qc, _BACKEND)\n",
        "    job = _BACKEND.run(compiled, shots=shots)\n",
        "    res = job.result()\n",
        "    counts = res.get_counts()\n",
        "\n",
        "    # compute simple correlation metric (sum of 00 and 11)\n",
        "    total = sum(counts.values())\n",
        "    corr = 0\n",
        "    for k, v in counts.items():\n",
        "        if k in ['00', '11']:\n",
        "            corr += v\n",
        "    correlation_percent = 100.0 * corr / total if total > 0 else 0.0\n",
        "\n",
        "    hist_path = os.path.join(ASSETS_DIR, 'bell_hist.png') if save else None\n",
        "    circuit_path = os.path.join(ASSETS_DIR, 'bell_circuit.png') if save else None\n",
        "\n",
        "    fig = None\n",
        "    if save and hist_path:\n",
        "        fig = _save_histogram(counts, hist_path)\n",
        "    else:\n",
        "        fig = plot_histogram(counts)\n",
        "\n",
        "    if save and circuit_path:\n",
        "        _save_circuit(qc, circuit_path)\n",
        "\n",
        "    return fig, hist_path, circuit_path, {'counts': counts, 'correlation_percent': correlation_percent}\n",
        "\n",
        "\n",
        "def run_future(n_qubits=3, save=True, headlines=None):\n",
        "    \"\"\"\n",
        "    2125 — Quantum Random Future\n",
        "    Use n_qubits to produce a random integer (0 .. 2^n_qubits - 1) and pick a headline.\n",
        "    Returns: (fig, hist_path, circuit_path, {'random_int': val, 'headline': headline})\n",
        "    \"\"\"\n",
        "    if headlines is None:\n",
        "        headlines = [\n",
        "            \"🧠 Quantum AI proposes a new unifying theory of physics.\",\n",
        "            \"🌍 Global Quantum Internet connects every continent.\",\n",
        "            \"🔐 Quantum cryptography secures all global payments.\",\n",
        "            \"🚀 Quantum-enhanced propulsion enables crewed interstellar probes.\",\n",
        "            \"🧬 Quantum sensors map the human brain at synapse resolution.\",\n",
        "            \"🏙️ Cities run on fault-tolerant quantum optimization.\"\n",
        "        ]\n",
        "\n",
        "    if _BACKEND is None:\n",
        "        raise RuntimeError(\"No Aer backend available. Install qiskit Aer.\")\n",
        "\n",
        "    qc = QuantumCircuit(n_qubits, n_qubits)\n",
        "    for q in range(n_qubits):\n",
        "        qc.h(q)     # put each qubit in superposition\n",
        "    qc.measure(range(n_qubits), range(n_qubits))\n",
        "\n",
        "    compiled = transpile(qc, _BACKEND)\n",
        "    job = _BACKEND.run(compiled, shots=1)\n",
        "    res = job.result()\n",
        "    counts = res.get_counts()\n",
        "    # counts will have one key like '101' (order depends on qiskit version)\n",
        "    outcome = next(iter(counts.keys()))\n",
        "    # Convert binary string to int (qiskit orders may be little-endian -> try both)\n",
        "    try:\n",
        "        val = int(outcome, 2)\n",
        "    except ValueError:\n",
        "        # fallback: reverse string\n",
        "        val = int(outcome[::-1], 2)\n",
        "\n",
        "    headline = headlines[val % len(headlines)]\n",
        "\n",
        "    # For visualization, create a distribution histogram (many shots)\n",
        "    compiled_dist = transpile(qc, _BACKEND)\n",
        "    dist_job = _BACKEND.run(compiled_dist, shots=1024)\n",
        "    dist_res = dist_job.result()\n",
        "    dist_counts = dist_res.get_counts()\n",
        "    hist_path = os.path.join(ASSETS_DIR, 'future_distribution_hist.png') if save else None\n",
        "    circuit_path = os.path.join(ASSETS_DIR, 'future_circuit.png') if save else None\n",
        "\n",
        "    fig = None\n",
        "    if save and hist_path:\n",
        "        fig = _save_histogram(dist_counts, hist_path)\n",
        "    else:\n",
        "        fig = plot_histogram(dist_counts)\n",
        "\n",
        "    if save and circuit_path:\n",
        "        _save_circuit(qc, circuit_path)\n",
        "\n",
        "    return fig, hist_path, circuit_path, {'random_int': val, 'headline': headline}\n",
        "\n",
        "\n",
        "# Small __main__ test block (runs if executed directly)\n",
        "if __name__ == \"__main__\":\n",
        "    print(\"Quick tests (this runs when module executed directly)...\")\n",
        "    f, h, c, r = run_double_slit()\n",
        "    print(\"Double slit counts:\", r['counts'])\n",
        "    f, h, c, r = run_cat()\n",
        "    print(\"Cat result:\", r)\n",
        "    f, h, c, r = run_bell()\n",
        "    print(\"Bell correlation %:\", r['correlation_percent'])\n",
        "    f, h, c, r = run_future()\n",
        "    print(\"Future:\", r)\n"
      ],
      "metadata": {
        "colab": {
          "base_uri": "https://localhost:8080/"
        },
        "id": "S7fWr22LJqba",
        "outputId": "4822737d-f26d-4648-d56d-c9fcf95a6381"
      },
      "execution_count": null,
      "outputs": [
        {
          "output_type": "stream",
          "name": "stdout",
          "text": [
            "Overwriting /content/quantum_time_capsule/quantum_scenes.py\n"
          ]
        }
      ]
    },
    {
      "cell_type": "code",
      "source": [
        "!pip install --upgrade pylatexenc qiskit\n"
      ],
      "metadata": {
        "colab": {
          "base_uri": "https://localhost:8080/"
        },
        "id": "G_hGU1DohwCe",
        "outputId": "620bf54a-5de5-4676-d5ca-d7e75bbc64de"
      },
      "execution_count": null,
      "outputs": [
        {
          "output_type": "stream",
          "name": "stdout",
          "text": [
            "Requirement already satisfied: pylatexenc in /usr/local/lib/python3.12/dist-packages (2.10)\n",
            "Requirement already satisfied: qiskit in /usr/local/lib/python3.12/dist-packages (2.2.2)\n",
            "Requirement already satisfied: rustworkx>=0.15.0 in /usr/local/lib/python3.12/dist-packages (from qiskit) (0.17.1)\n",
            "Requirement already satisfied: numpy<3,>=1.17 in /usr/local/lib/python3.12/dist-packages (from qiskit) (2.0.2)\n",
            "Requirement already satisfied: scipy>=1.5 in /usr/local/lib/python3.12/dist-packages (from qiskit) (1.16.2)\n",
            "Requirement already satisfied: dill>=0.3 in /usr/local/lib/python3.12/dist-packages (from qiskit) (0.3.8)\n",
            "Requirement already satisfied: stevedore>=3.0.0 in /usr/local/lib/python3.12/dist-packages (from qiskit) (5.5.0)\n",
            "Requirement already satisfied: typing-extensions in /usr/local/lib/python3.12/dist-packages (from qiskit) (4.15.0)\n"
          ]
        }
      ]
    },
    {
      "cell_type": "code",
      "source": [
        "%%writefile /content/quantum_time_capsule/quantum_scenes.py\n",
        "\n",
        "from qiskit import QuantumCircuit, transpile\n",
        "from qiskit_aer import Aer\n",
        "from qiskit.visualization import plot_histogram\n",
        "import matplotlib\n",
        "matplotlib.use(\"Agg\")  # non-GUI backend\n",
        "import matplotlib.pyplot as plt\n",
        "import os\n",
        "\n",
        "\n",
        "# -----------------------------\n",
        "# Backend setup\n",
        "\n",
        "try:\n",
        "    _BACKEND = Aer.get_backend('aer_simulator')\n",
        "except Exception:\n",
        "    _BACKEND = Aer.get_backend('qasm_simulator')\n",
        "\n",
        "BASE_DIR = os.environ.get('QT_CAPSULE_DIR', '/content/quantum_time_capsule')\n",
        "ASSETS_DIR = os.path.join(BASE_DIR, 'assets')\n",
        "os.makedirs(ASSETS_DIR, exist_ok=True)\n",
        "\n",
        "# -----------------------------\n",
        "# Utilities\n",
        "# -----------------------------\n",
        "def _save_histogram(counts, filepath):\n",
        "    try:\n",
        "        fig = plot_histogram(counts)\n",
        "        fig.savefig(filepath, bbox_inches='tight')\n",
        "        plt.close(fig)\n",
        "        return fig\n",
        "    except Exception:\n",
        "        labels = list(counts.keys())\n",
        "        values = [counts[k] for k in labels]\n",
        "        fig, ax = plt.subplots()\n",
        "        ax.bar(labels, values)\n",
        "        ax.set_xlabel('Outcome')\n",
        "        ax.set_ylabel('Counts')\n",
        "        plt.tight_layout()\n",
        "        fig.savefig(filepath)\n",
        "        plt.close(fig)\n",
        "        return fig\n",
        "\n",
        "def _save_circuit(qc, filepath):\n",
        "    \"\"\"\n",
        "    Save a quantum circuit as a PNG using Qiskit's mpl drawer.\n",
        "    Requires pylatexenc.\n",
        "    \"\"\"\n",
        "    fig = qc.draw(output='mpl', scale=1.2)\n",
        "    fig.savefig(filepath, bbox_inches='tight')\n",
        "    fig.clf()\n",
        "    return filepath\n",
        "\n",
        "\n",
        "\n",
        "# -----------------------------\n",
        "# Experiments\n",
        "# -----------------------------\n",
        "def run_double_slit(shots=1024, save=True):\n",
        "    qc = QuantumCircuit(1, 1)\n",
        "    qc.h(0)\n",
        "    qc.measure(0, 0)\n",
        "\n",
        "    compiled = transpile(qc, _BACKEND)\n",
        "    job = _BACKEND.run(compiled, shots=shots)\n",
        "    counts = job.result().get_counts()\n",
        "\n",
        "    hist_path = os.path.join(ASSETS_DIR, 'double_slit_hist.png') if save else None\n",
        "    circuit_path = os.path.join(ASSETS_DIR, 'double_slit_circuit.png') if save else None\n",
        "\n",
        "    fig = _save_histogram(counts, hist_path) if save and hist_path else plot_histogram(counts)\n",
        "    if save and circuit_path:\n",
        "        circuit_path = _save_circuit(qc, circuit_path)\n",
        "\n",
        "    return fig, hist_path, circuit_path, {'counts': counts}\n",
        "\n",
        "def run_cat(shots=1, dist_shots=1024, save=True):\n",
        "    qc = QuantumCircuit(1,1)\n",
        "    qc.h(0)\n",
        "    qc.measure(0,0)\n",
        "\n",
        "    # Single-shot for alive/dead\n",
        "    compiled_single = transpile(qc, _BACKEND)\n",
        "    job_single = _BACKEND.run(compiled_single, shots=shots)\n",
        "    counts_single = job_single.result().get_counts()\n",
        "    single_key = next(iter(counts_single.keys()))\n",
        "    result = \"Alive 🟢\" if single_key == '0' else \"Dead 🔴\"\n",
        "\n",
        "    # Distribution for histogram\n",
        "    compiled_dist = transpile(qc, _BACKEND)\n",
        "    counts_dist = _BACKEND.run(compiled_dist, shots=dist_shots).result().get_counts()\n",
        "\n",
        "    hist_path = os.path.join(ASSETS_DIR, 'cat_distribution_hist.png') if save else None\n",
        "    circuit_path = os.path.join(ASSETS_DIR, 'cat_circuit.png') if save else None\n",
        "\n",
        "    fig = _save_histogram(counts_dist, hist_path) if save and hist_path else plot_histogram(counts_dist)\n",
        "    if save and circuit_path:\n",
        "        circuit_path = _save_circuit(qc, circuit_path)\n",
        "\n",
        "    return fig, hist_path, circuit_path, result\n",
        "\n",
        "def run_bell(shots=1024, save=True):\n",
        "    qc = QuantumCircuit(2,2)\n",
        "    qc.h(0)\n",
        "    qc.cx(0,1)\n",
        "    qc.measure([0,1],[0,1])\n",
        "\n",
        "    compiled = transpile(qc, _BACKEND)\n",
        "    counts = _BACKEND.run(compiled, shots=shots).result().get_counts()\n",
        "\n",
        "    total = sum(counts.values())\n",
        "    corr = sum(v for k,v in counts.items() if k in ['00','11'])\n",
        "    correlation_percent = 100.0 * corr / total if total > 0 else 0.0\n",
        "\n",
        "    hist_path = os.path.join(ASSETS_DIR, 'bell_hist.png') if save else None\n",
        "    circuit_path = os.path.join(ASSETS_DIR, 'bell_circuit.png') if save else None\n",
        "\n",
        "    fig = _save_histogram(counts, hist_path) if save and hist_path else plot_histogram(counts)\n",
        "    if save and circuit_path:\n",
        "        circuit_path = _save_circuit(qc, circuit_path)\n",
        "\n",
        "    return fig, hist_path, circuit_path, {'counts': counts, 'correlation_percent': correlation_percent}\n",
        "\n",
        "def run_future(n_qubits=3, save=True, headlines=None):\n",
        "    if headlines is None:\n",
        "        headlines = [\n",
        "            \"🧠 Quantum AI proposes a new unifying theory of physics.\",\n",
        "            \"🌍 Global Quantum Internet connects every continent.\",\n",
        "            \"🔐 Quantum cryptography secures all global payments.\",\n",
        "            \"🚀 Quantum-enhanced propulsion enables crewed interstellar probes.\",\n",
        "            \"🧬 Quantum sensors map the human brain at synapse resolution.\",\n",
        "            \"🏙️ Cities run on fault-tolerant quantum optimization.\"\n",
        "        ]\n",
        "\n",
        "    qc = QuantumCircuit(n_qubits, n_qubits)\n",
        "    for q in range(n_qubits):\n",
        "        qc.h(q)\n",
        "    qc.measure(range(n_qubits), range(n_qubits))\n",
        "\n",
        "    compiled = transpile(qc, _BACKEND)\n",
        "    outcome = next(iter(_BACKEND.run(compiled, shots=1).result().get_counts().keys()))\n",
        "\n",
        "    try:\n",
        "        val = int(outcome, 2)\n",
        "    except ValueError:\n",
        "        val = int(outcome[::-1], 2)\n",
        "\n",
        "    headline = headlines[val % len(headlines)]\n",
        "\n",
        "    compiled_dist = transpile(qc, _BACKEND)\n",
        "    dist_counts = _BACKEND.run(compiled_dist, shots=1024).result().get_counts()\n",
        "\n",
        "    hist_path = os.path.join(ASSETS_DIR, 'future_distribution_hist.png') if save else None\n",
        "    circuit_path = os.path.join(ASSETS_DIR, 'future_circuit.png') if save else None\n",
        "\n",
        "    fig = _save_histogram(dist_counts, hist_path) if save and hist_path else plot_histogram(dist_counts)\n",
        "    if save and circuit_path:\n",
        "        circuit_path = _save_circuit(qc, circuit_path)\n",
        "\n",
        "    return fig, hist_path, circuit_path, {'random_int': val, 'headline': headline}\n",
        "\n",
        "# -----------------------------\n",
        "# Quick test block\n",
        "# -----------------------------\n",
        "if __name__ == \"__main__\":\n",
        "    f, h, c, r = run_double_slit()\n",
        "    print(\"Double slit counts:\", r['counts'])\n",
        "    f, h, c, r = run_cat()\n",
        "    print(\"Cat result:\", r)\n",
        "    f, h, c, r = run_bell()\n",
        "    print(\"Bell correlation %:\", r['correlation_percent'])\n",
        "    f, h, c, r = run_future()\n",
        "    print(\"Future:\", r)\n",
        "\n"
      ],
      "metadata": {
        "id": "0V6FdHsqhwZ3",
        "colab": {
          "base_uri": "https://localhost:8080/"
        },
        "outputId": "f8867809-4618-4fa6-e8c9-24d0c908e485"
      },
      "execution_count": null,
      "outputs": [
        {
          "output_type": "stream",
          "name": "stdout",
          "text": [
            "Overwriting /content/quantum_time_capsule/quantum_scenes.py\n"
          ]
        }
      ]
    },
    {
      "cell_type": "code",
      "source": [
        "!pip install qiskit qiskit-aer --upgrade\n"
      ],
      "metadata": {
        "colab": {
          "base_uri": "https://localhost:8080/"
        },
        "id": "8Ezv3qqDK-Zx",
        "outputId": "55479d85-bdb1-4e1d-bdc7-430a7cbc4b25"
      },
      "execution_count": null,
      "outputs": [
        {
          "output_type": "stream",
          "name": "stdout",
          "text": [
            "Requirement already satisfied: qiskit in /usr/local/lib/python3.12/dist-packages (2.2.2)\n",
            "Requirement already satisfied: qiskit-aer in /usr/local/lib/python3.12/dist-packages (0.17.2)\n",
            "Requirement already satisfied: rustworkx>=0.15.0 in /usr/local/lib/python3.12/dist-packages (from qiskit) (0.17.1)\n",
            "Requirement already satisfied: numpy<3,>=1.17 in /usr/local/lib/python3.12/dist-packages (from qiskit) (2.0.2)\n",
            "Requirement already satisfied: scipy>=1.5 in /usr/local/lib/python3.12/dist-packages (from qiskit) (1.16.2)\n",
            "Requirement already satisfied: dill>=0.3 in /usr/local/lib/python3.12/dist-packages (from qiskit) (0.3.8)\n",
            "Requirement already satisfied: stevedore>=3.0.0 in /usr/local/lib/python3.12/dist-packages (from qiskit) (5.5.0)\n",
            "Requirement already satisfied: typing-extensions in /usr/local/lib/python3.12/dist-packages (from qiskit) (4.15.0)\n",
            "Requirement already satisfied: psutil>=5 in /usr/local/lib/python3.12/dist-packages (from qiskit-aer) (5.9.5)\n",
            "Requirement already satisfied: python-dateutil>=2.8.0 in /usr/local/lib/python3.12/dist-packages (from qiskit-aer) (2.9.0.post0)\n",
            "Requirement already satisfied: six>=1.5 in /usr/local/lib/python3.12/dist-packages (from python-dateutil>=2.8.0->qiskit-aer) (1.17.0)\n"
          ]
        }
      ]
    },
    {
      "cell_type": "code",
      "source": [
        "# ==============================================================\n",
        "# quantum_scenes.py\n",
        "# Person 1 — Quantum Logic Engineer\n",
        "# --------------------------------------------------------------\n",
        "# This module contains all the quantum circuit functions for\n",
        "# the \"Quantum Time Capsule: 100 Years of Quantum\" hackathon project.\n",
        "#\n",
        "# Scenes implemented:\n",
        "#  - 1927: Double Slit (Hadamard superposition)\n",
        "#  - 1935: Schrödinger’s Cat (Random outcome)\n",
        "#  - 1964: Bell State (Entanglement)\n",
        "#  - 2125: Quantum Future (Quantum random headline generator)\n",
        "#\n",
        "# Each function returns either counts, outcomes, or generated content,\n",
        "# and saves any plots to the /assets folder inside the project.\n",
        "# ==============================================================\n",
        "\n",
        "# --- Standard Imports ---\n",
        "import os\n",
        "import random\n",
        "import matplotlib.pyplot as plt\n",
        "\n",
        "# --- Qiskit Imports ---\n",
        "# QuantumCircuit: to build circuits\n",
        "# transpile: to prepare circuits for simulators\n",
        "from qiskit import QuantumCircuit, transpile\n",
        "\n",
        "# AerSimulator is the correct modern import for Qiskit Aer\n",
        "from qiskit_aer import AerSimulator\n",
        "\n",
        "# plot_histogram: to visualize measurement results\n",
        "from qiskit.visualization import plot_histogram\n",
        "\n",
        "\n",
        "# ==============================================================\n",
        "# Ensure assets folder exists for saving images\n",
        "# ==============================================================\n",
        "\n",
        "ASSETS_DIR = '/content/quantum_time_capsule/assets'\n",
        "os.makedirs(ASSETS_DIR, exist_ok=True)\n",
        "\n",
        "\n",
        "# ==============================================================\n",
        "# 1927: Double Slit Simulation\n",
        "# ==============================================================\n",
        "\n",
        "def run_double_slit():\n",
        "    \"\"\"\n",
        "    Simulate a single-qubit Hadamard gate followed by measurement.\n",
        "    This represents the famous double-slit experiment, showing\n",
        "    a superposition of |0> and |1>.\n",
        "\n",
        "    Returns:\n",
        "        counts (dict): Measurement results from simulator.\n",
        "        fig_path (str): Path to saved histogram image.\n",
        "    \"\"\"\n",
        "\n",
        "    # Step 1: Create a circuit with 1 qubit and 1 classical bit\n",
        "    qc = QuantumCircuit(1, 1)\n",
        "\n",
        "    # Step 2: Apply Hadamard to create superposition\n",
        "    qc.h(0)\n",
        "\n",
        "    # Step 3: Measure the qubit\n",
        "    qc.measure_all()\n",
        "\n",
        "    # Step 4: Run on AerSimulator\n",
        "    simulator = AerSimulator()\n",
        "    tqc = transpile(qc, simulator)\n",
        "    result = simulator.run(tqc).result()\n",
        "\n",
        "    # Step 5: Get measurement counts\n",
        "    counts = result.get_counts()\n",
        "\n",
        "    # Step 6: Plot histogram and save it to assets folder\n",
        "    fig = plot_histogram(counts)\n",
        "    fig_path = os.path.join(ASSETS_DIR, 'double_slit.png')\n",
        "    plt.savefig(fig_path)\n",
        "    plt.close()\n",
        "\n",
        "    return counts, fig_path\n",
        "\n",
        "\n",
        "# ==============================================================\n",
        "# 1935: Schrödinger’s Cat Simulation\n",
        "# ==============================================================\n",
        "\n",
        "def run_cat():\n",
        "    \"\"\"\n",
        "    Represent Schrödinger's cat thought experiment.\n",
        "    Instead of a real quantum circuit, we simulate the randomness\n",
        "    of measurement: Alive or Dead outcome.\n",
        "\n",
        "    Returns:\n",
        "        outcome (str): Either \"Alive 🐱\" or \"Dead 💀\"\n",
        "    \"\"\"\n",
        "    outcome = random.choice(['Alive 🐱', 'Dead 💀'])\n",
        "    return outcome\n",
        "\n",
        "\n",
        "# ==============================================================\n",
        "# 1964: Bell State (Entanglement) Simulation\n",
        "# ==============================================================\n",
        "\n",
        "def run_bell():\n",
        "    \"\"\"\n",
        "    Create and measure a Bell state between two qubits.\n",
        "    This represents quantum entanglement and Bell's inequality experiments.\n",
        "\n",
        "    Returns:\n",
        "        counts (dict): Measurement results from simulator.\n",
        "        fig_path (str): Path to saved histogram image.\n",
        "    \"\"\"\n",
        "\n",
        "    # Step 1: Create a 2-qubit circuit with 2 classical bits\n",
        "    qc = QuantumCircuit(2, 2)\n",
        "\n",
        "    # Step 2: Apply Hadamard on qubit 0\n",
        "    qc.h(0)\n",
        "\n",
        "    # Step 3: Apply CNOT (CX) between qubit 0 (control) and 1 (target)\n",
        "    qc.cx(0, 1)\n",
        "\n",
        "    # Step 4: Measure both qubits\n",
        "    qc.measure_all()\n",
        "\n",
        "    # Step 5: Run on AerSimulator\n",
        "    simulator = AerSimulator()\n",
        "    tqc = transpile(qc, simulator)\n",
        "    result = simulator.run(tqc).result()\n",
        "\n",
        "    # Step 6: Get measurement counts\n",
        "    counts = result.get_counts()\n",
        "\n",
        "    # Step 7: Plot histogram and save it to assets folder\n",
        "    fig = plot_histogram(counts)\n",
        "    fig_path = os.path.join(ASSETS_DIR, 'bell_state.png')\n",
        "    plt.savefig(fig_path)\n",
        "    plt.close()\n",
        "\n",
        "    return counts, fig_path\n",
        "\n",
        "\n",
        "# ==============================================================\n",
        "# 2125: Quantum Future Headline Generator\n",
        "# ==============================================================\n",
        "\n",
        "def run_future():\n",
        "    \"\"\"\n",
        "    Generate a futuristic 'quantum news headline' using randomness.\n",
        "    This simulates a quantum random number generator picking a future outcome.\n",
        "\n",
        "    Returns:\n",
        "        headline (str): A randomly chosen future quantum breakthrough.\n",
        "    \"\"\"\n",
        "\n",
        "    headlines = [\n",
        "        \"🌐 Quantum Internet spans the globe!\",\n",
        "        \"🧠 Quantum AI surpasses classical limits.\",\n",
        "        \"🚀 Humans teleport information to Mars.\",\n",
        "        \"🔐 Quantum encryption secures global finance.\",\n",
        "        \"🤖 Hybrid Quantum-Classical superintelligence emerges.\",\n",
        "        \"⚛️ Quantum sensors map the universe in real-time.\",\n",
        "        \"🏥 Quantum biology unlocks disease cures.\"\n",
        "    ]\n",
        "\n",
        "    headline = random.choice(headlines)\n",
        "    return headline\n",
        "\n",
        "\n",
        "# ==============================================================\n",
        "# Quick Self-Test (Optional)\n",
        "# --------------------------------------------------------------\n",
        "# You can run this file directly to test each function individually.\n",
        "# ==============================================================\n",
        "\n",
        "if __name__ == \"__main__\":\n",
        "    print(\"Running self-test for quantum_scenes.py ...\\n\")\n",
        "\n",
        "    # Test 1927 scene\n",
        "    counts_1927, path_1927 = run_double_slit()\n",
        "    print(\"1927 Double Slit Counts:\", counts_1927)\n",
        "    print(\"Saved Histogram:\", path_1927, \"\\n\")\n",
        "\n",
        "    # Test 1935 scene\n",
        "    cat_outcome = run_cat()\n",
        "    print(\"1935 Schrödinger’s Cat Outcome:\", cat_outcome, \"\\n\")\n",
        "\n",
        "    # Test 1964 scene\n",
        "    counts_bell, path_bell = run_bell()\n",
        "    print(\"1964 Bell State Counts:\", counts_bell)\n",
        "    print(\"Saved Histogram:\", path_bell, \"\\n\")\n",
        "\n",
        "    # Test 2125 scene\n",
        "    future_headline = run_future()\n",
        "    print(\"2125 Quantum Future Headline:\", future_headline, \"\\n\")\n",
        "\n",
        "    print(\"✅ All functions executed successfully.\")\n"
      ],
      "metadata": {
        "id": "gYVVjUmLR1mj",
        "colab": {
          "base_uri": "https://localhost:8080/"
        },
        "outputId": "7bb44a80-d6a8-456f-e987-bed0420e4348"
      },
      "execution_count": null,
      "outputs": [
        {
          "output_type": "stream",
          "name": "stdout",
          "text": [
            "Running self-test for quantum_scenes.py ...\n",
            "\n",
            "1927 Double Slit Counts: {'1 0': 517, '0 0': 507}\n",
            "Saved Histogram: /content/quantum_time_capsule/assets/double_slit.png \n",
            "\n",
            "1935 Schrödinger’s Cat Outcome: Alive 🐱 \n",
            "\n",
            "1964 Bell State Counts: {'00 00': 537, '11 00': 487}\n",
            "Saved Histogram: /content/quantum_time_capsule/assets/bell_state.png \n",
            "\n",
            "2125 Quantum Future Headline: 🚀 Humans teleport information to Mars. \n",
            "\n",
            "✅ All functions executed successfully.\n"
          ]
        }
      ]
    },
    {
      "cell_type": "code",
      "source": [
        "from google.colab import drive\n",
        "drive.mount('/content/drive')"
      ],
      "metadata": {
        "id": "-yzpfzHQNriS",
        "colab": {
          "base_uri": "https://localhost:8080/"
        },
        "outputId": "b3fe025f-c546-435c-cc97-c881f1eca24b"
      },
      "execution_count": null,
      "outputs": [
        {
          "output_type": "stream",
          "name": "stdout",
          "text": [
            "Mounted at /content/drive\n"
          ]
        }
      ]
    },
    {
      "cell_type": "code",
      "source": [
        "#==================================================================================================================================================================================================================================================================================================================================================================\n",
        "#================================================================================================================================================"
      ],
      "metadata": {
        "id": "NL_BWI96JVaR"
      },
      "execution_count": null,
      "outputs": []
    },
    {
      "cell_type": "code",
      "source": [
        "!pip install pyngrok streamlit > /dev/null"
      ],
      "metadata": {
        "id": "V2cPHNP-Uwjq"
      },
      "execution_count": null,
      "outputs": []
    },
    {
      "cell_type": "code",
      "source": [
        "# Create the folder structure if it doesn't exist\n",
        "!mkdir -p /content/quantum_time_capsule\n"
      ],
      "metadata": {
        "id": "vHYadFYCEALs"
      },
      "execution_count": null,
      "outputs": []
    },
    {
      "cell_type": "code",
      "source": [
        "!mkdir -p /content/quantum_time_capsule/assets\n"
      ],
      "metadata": {
        "id": "jGJnf_-NmH9L"
      },
      "execution_count": null,
      "outputs": []
    },
    {
      "cell_type": "code",
      "source": [
        "!pip install qiskit qiskit-aer --quiet\n"
      ],
      "metadata": {
        "id": "sFkHES2CW_MJ"
      },
      "execution_count": null,
      "outputs": []
    },
    {
      "cell_type": "code",
      "source": [
        "!pip install streamlit pyngrok qiskit qiskit-aer matplotlib\n"
      ],
      "metadata": {
        "id": "RzOHj3hPk7-U",
        "colab": {
          "base_uri": "https://localhost:8080/"
        },
        "outputId": "94563b20-cfc4-43a3-985e-22f6f524f0e8"
      },
      "execution_count": null,
      "outputs": [
        {
          "output_type": "stream",
          "name": "stdout",
          "text": [
            "Requirement already satisfied: streamlit in /usr/local/lib/python3.12/dist-packages (1.50.0)\n",
            "Requirement already satisfied: pyngrok in /usr/local/lib/python3.12/dist-packages (7.4.0)\n",
            "Requirement already satisfied: qiskit in /usr/local/lib/python3.12/dist-packages (2.2.2)\n",
            "Requirement already satisfied: qiskit-aer in /usr/local/lib/python3.12/dist-packages (0.17.2)\n",
            "Requirement already satisfied: matplotlib in /usr/local/lib/python3.12/dist-packages (3.10.0)\n",
            "Requirement already satisfied: altair!=5.4.0,!=5.4.1,<6,>=4.0 in /usr/local/lib/python3.12/dist-packages (from streamlit) (5.5.0)\n",
            "Requirement already satisfied: blinker<2,>=1.5.0 in /usr/local/lib/python3.12/dist-packages (from streamlit) (1.9.0)\n",
            "Requirement already satisfied: cachetools<7,>=4.0 in /usr/local/lib/python3.12/dist-packages (from streamlit) (5.5.2)\n",
            "Requirement already satisfied: click<9,>=7.0 in /usr/local/lib/python3.12/dist-packages (from streamlit) (8.1.8)\n",
            "Requirement already satisfied: numpy<3,>=1.23 in /usr/local/lib/python3.12/dist-packages (from streamlit) (2.0.2)\n",
            "Requirement already satisfied: packaging<26,>=20 in /usr/local/lib/python3.12/dist-packages (from streamlit) (25.0)\n",
            "Requirement already satisfied: pandas<3,>=1.4.0 in /usr/local/lib/python3.12/dist-packages (from streamlit) (2.2.2)\n",
            "Requirement already satisfied: pillow<12,>=7.1.0 in /usr/local/lib/python3.12/dist-packages (from streamlit) (11.3.0)\n",
            "Requirement already satisfied: protobuf<7,>=3.20 in /usr/local/lib/python3.12/dist-packages (from streamlit) (5.29.5)\n",
            "Requirement already satisfied: pyarrow>=7.0 in /usr/local/lib/python3.12/dist-packages (from streamlit) (18.1.0)\n",
            "Requirement already satisfied: requests<3,>=2.27 in /usr/local/lib/python3.12/dist-packages (from streamlit) (2.32.4)\n",
            "Requirement already satisfied: tenacity<10,>=8.1.0 in /usr/local/lib/python3.12/dist-packages (from streamlit) (8.5.0)\n",
            "Requirement already satisfied: toml<2,>=0.10.1 in /usr/local/lib/python3.12/dist-packages (from streamlit) (0.10.2)\n",
            "Requirement already satisfied: typing-extensions<5,>=4.4.0 in /usr/local/lib/python3.12/dist-packages (from streamlit) (4.15.0)\n",
            "Requirement already satisfied: watchdog<7,>=2.1.5 in /usr/local/lib/python3.12/dist-packages (from streamlit) (6.0.0)\n",
            "Requirement already satisfied: gitpython!=3.1.19,<4,>=3.0.7 in /usr/local/lib/python3.12/dist-packages (from streamlit) (3.1.45)\n",
            "Requirement already satisfied: pydeck<1,>=0.8.0b4 in /usr/local/lib/python3.12/dist-packages (from streamlit) (0.9.1)\n",
            "Requirement already satisfied: tornado!=6.5.0,<7,>=6.0.3 in /usr/local/lib/python3.12/dist-packages (from streamlit) (6.5.1)\n",
            "Requirement already satisfied: PyYAML>=5.1 in /usr/local/lib/python3.12/dist-packages (from pyngrok) (6.0.3)\n",
            "Requirement already satisfied: rustworkx>=0.15.0 in /usr/local/lib/python3.12/dist-packages (from qiskit) (0.17.1)\n",
            "Requirement already satisfied: scipy>=1.5 in /usr/local/lib/python3.12/dist-packages (from qiskit) (1.16.2)\n",
            "Requirement already satisfied: dill>=0.3 in /usr/local/lib/python3.12/dist-packages (from qiskit) (0.3.8)\n",
            "Requirement already satisfied: stevedore>=3.0.0 in /usr/local/lib/python3.12/dist-packages (from qiskit) (5.5.0)\n",
            "Requirement already satisfied: psutil>=5 in /usr/local/lib/python3.12/dist-packages (from qiskit-aer) (5.9.5)\n",
            "Requirement already satisfied: python-dateutil>=2.8.0 in /usr/local/lib/python3.12/dist-packages (from qiskit-aer) (2.9.0.post0)\n",
            "Requirement already satisfied: contourpy>=1.0.1 in /usr/local/lib/python3.12/dist-packages (from matplotlib) (1.3.3)\n",
            "Requirement already satisfied: cycler>=0.10 in /usr/local/lib/python3.12/dist-packages (from matplotlib) (0.12.1)\n",
            "Requirement already satisfied: fonttools>=4.22.0 in /usr/local/lib/python3.12/dist-packages (from matplotlib) (4.60.1)\n",
            "Requirement already satisfied: kiwisolver>=1.3.1 in /usr/local/lib/python3.12/dist-packages (from matplotlib) (1.4.9)\n",
            "Requirement already satisfied: pyparsing>=2.3.1 in /usr/local/lib/python3.12/dist-packages (from matplotlib) (3.2.5)\n",
            "Requirement already satisfied: jinja2 in /usr/local/lib/python3.12/dist-packages (from altair!=5.4.0,!=5.4.1,<6,>=4.0->streamlit) (3.1.6)\n",
            "Requirement already satisfied: jsonschema>=3.0 in /usr/local/lib/python3.12/dist-packages (from altair!=5.4.0,!=5.4.1,<6,>=4.0->streamlit) (4.25.1)\n",
            "Requirement already satisfied: narwhals>=1.14.2 in /usr/local/lib/python3.12/dist-packages (from altair!=5.4.0,!=5.4.1,<6,>=4.0->streamlit) (2.8.0)\n",
            "Requirement already satisfied: gitdb<5,>=4.0.1 in /usr/local/lib/python3.12/dist-packages (from gitpython!=3.1.19,<4,>=3.0.7->streamlit) (4.0.12)\n",
            "Requirement already satisfied: pytz>=2020.1 in /usr/local/lib/python3.12/dist-packages (from pandas<3,>=1.4.0->streamlit) (2025.2)\n",
            "Requirement already satisfied: tzdata>=2022.7 in /usr/local/lib/python3.12/dist-packages (from pandas<3,>=1.4.0->streamlit) (2025.2)\n",
            "Requirement already satisfied: six>=1.5 in /usr/local/lib/python3.12/dist-packages (from python-dateutil>=2.8.0->qiskit-aer) (1.17.0)\n",
            "Requirement already satisfied: charset_normalizer<4,>=2 in /usr/local/lib/python3.12/dist-packages (from requests<3,>=2.27->streamlit) (3.4.4)\n",
            "Requirement already satisfied: idna<4,>=2.5 in /usr/local/lib/python3.12/dist-packages (from requests<3,>=2.27->streamlit) (3.11)\n",
            "Requirement already satisfied: urllib3<3,>=1.21.1 in /usr/local/lib/python3.12/dist-packages (from requests<3,>=2.27->streamlit) (2.5.0)\n",
            "Requirement already satisfied: certifi>=2017.4.17 in /usr/local/lib/python3.12/dist-packages (from requests<3,>=2.27->streamlit) (2025.10.5)\n",
            "Requirement already satisfied: smmap<6,>=3.0.1 in /usr/local/lib/python3.12/dist-packages (from gitdb<5,>=4.0.1->gitpython!=3.1.19,<4,>=3.0.7->streamlit) (5.0.2)\n",
            "Requirement already satisfied: MarkupSafe>=2.0 in /usr/local/lib/python3.12/dist-packages (from jinja2->altair!=5.4.0,!=5.4.1,<6,>=4.0->streamlit) (3.0.3)\n",
            "Requirement already satisfied: attrs>=22.2.0 in /usr/local/lib/python3.12/dist-packages (from jsonschema>=3.0->altair!=5.4.0,!=5.4.1,<6,>=4.0->streamlit) (25.4.0)\n",
            "Requirement already satisfied: jsonschema-specifications>=2023.03.6 in /usr/local/lib/python3.12/dist-packages (from jsonschema>=3.0->altair!=5.4.0,!=5.4.1,<6,>=4.0->streamlit) (2025.9.1)\n",
            "Requirement already satisfied: referencing>=0.28.4 in /usr/local/lib/python3.12/dist-packages (from jsonschema>=3.0->altair!=5.4.0,!=5.4.1,<6,>=4.0->streamlit) (0.37.0)\n",
            "Requirement already satisfied: rpds-py>=0.7.1 in /usr/local/lib/python3.12/dist-packages (from jsonschema>=3.0->altair!=5.4.0,!=5.4.1,<6,>=4.0->streamlit) (0.27.1)\n"
          ]
        }
      ]
    },
    {
      "cell_type": "code",
      "source": [
        "import os\n",
        "\n",
        "paths = [\n",
        "    \"/content/quantum_time_capsule\",\n",
        "    \"/content/quantum_time_capsule/app.py\",\n",
        "    \"/content/quantum_time_capsule/quantum_scenes.py\",\n",
        "    \"/content/quantum_time_capsule/assets\"\n",
        "]\n",
        "\n",
        "for p in paths:\n",
        "    print(f\"{p}: {'✅ Exists' if os.path.exists(p) else '❌ Missing'}\")\n",
        "\n"
      ],
      "metadata": {
        "colab": {
          "base_uri": "https://localhost:8080/"
        },
        "id": "WM2IXqYiZvcU",
        "outputId": "44ee32b3-6363-49fe-c37d-2ee7a137fa42"
      },
      "execution_count": null,
      "outputs": [
        {
          "output_type": "stream",
          "name": "stdout",
          "text": [
            "/content/quantum_time_capsule: ✅ Exists\n",
            "/content/quantum_time_capsule/app.py: ✅ Exists\n",
            "/content/quantum_time_capsule/quantum_scenes.py: ✅ Exists\n",
            "/content/quantum_time_capsule/assets: ✅ Exists\n"
          ]
        }
      ]
    },
    {
      "cell_type": "code",
      "source": [
        "import os\n",
        "os.makedirs('/content/quantum_time_capsule/assets', exist_ok=True)\n",
        "print(\"✅ assets directory exists:\", os.path.exists('/content/quantum_time_capsule/assets'))\n"
      ],
      "metadata": {
        "colab": {
          "base_uri": "https://localhost:8080/"
        },
        "id": "Ew0nRssWVovy",
        "outputId": "ab694561-8b3f-413d-9083-d371fc72841f"
      },
      "execution_count": null,
      "outputs": [
        {
          "output_type": "stream",
          "name": "stdout",
          "text": [
            "✅ assets directory exists: True\n"
          ]
        }
      ]
    },
    {
      "cell_type": "code",
      "source": [
        "import sys, os\n",
        "\n",
        "# Add your project folder to Python's path\n",
        "PROJECT_DIR = \"/content/quantum_time_capsule\"\n",
        "if PROJECT_DIR not in sys.path:\n",
        "    sys.path.append(PROJECT_DIR)\n",
        "\n",
        "# Now try importing the module\n",
        "from quantum_scenes import run_double_slit\n",
        "\n",
        "# Test that everything works\n",
        "fig, hist, circ, res = run_double_slit()\n",
        "print(\"Paths:\", hist, circ)\n",
        "print(\"Exist:\", os.path.exists(hist), os.path.exists(circ))\n"
      ],
      "metadata": {
        "colab": {
          "base_uri": "https://localhost:8080/"
        },
        "id": "O6FOUdFeWcQu",
        "outputId": "0a941bc9-ef6f-468e-b5ff-157e6793f67c"
      },
      "execution_count": null,
      "outputs": [
        {
          "output_type": "stream",
          "name": "stdout",
          "text": [
            "Paths: /content/quantum_time_capsule/assets/double_slit_hist.png /content/quantum_time_capsule/assets/double_slit_circuit.png\n",
            "Exist: True True\n"
          ]
        }
      ]
    },
    {
      "cell_type": "code",
      "source": [
        "%pip install qiskit pylatexenc matplotlib\n"
      ],
      "metadata": {
        "colab": {
          "base_uri": "https://localhost:8080/"
        },
        "id": "hz4LhXRBoBxg",
        "outputId": "da73ff44-d487-4045-996e-dc6edf90775d"
      },
      "execution_count": null,
      "outputs": [
        {
          "output_type": "stream",
          "name": "stdout",
          "text": [
            "Requirement already satisfied: qiskit in /usr/local/lib/python3.12/dist-packages (2.2.2)\n",
            "Requirement already satisfied: pylatexenc in /usr/local/lib/python3.12/dist-packages (2.10)\n",
            "Requirement already satisfied: matplotlib in /usr/local/lib/python3.12/dist-packages (3.10.0)\n",
            "Requirement already satisfied: rustworkx>=0.15.0 in /usr/local/lib/python3.12/dist-packages (from qiskit) (0.17.1)\n",
            "Requirement already satisfied: numpy<3,>=1.17 in /usr/local/lib/python3.12/dist-packages (from qiskit) (2.0.2)\n",
            "Requirement already satisfied: scipy>=1.5 in /usr/local/lib/python3.12/dist-packages (from qiskit) (1.16.2)\n",
            "Requirement already satisfied: dill>=0.3 in /usr/local/lib/python3.12/dist-packages (from qiskit) (0.3.8)\n",
            "Requirement already satisfied: stevedore>=3.0.0 in /usr/local/lib/python3.12/dist-packages (from qiskit) (5.5.0)\n",
            "Requirement already satisfied: typing-extensions in /usr/local/lib/python3.12/dist-packages (from qiskit) (4.15.0)\n",
            "Requirement already satisfied: contourpy>=1.0.1 in /usr/local/lib/python3.12/dist-packages (from matplotlib) (1.3.3)\n",
            "Requirement already satisfied: cycler>=0.10 in /usr/local/lib/python3.12/dist-packages (from matplotlib) (0.12.1)\n",
            "Requirement already satisfied: fonttools>=4.22.0 in /usr/local/lib/python3.12/dist-packages (from matplotlib) (4.60.1)\n",
            "Requirement already satisfied: kiwisolver>=1.3.1 in /usr/local/lib/python3.12/dist-packages (from matplotlib) (1.4.9)\n",
            "Requirement already satisfied: packaging>=20.0 in /usr/local/lib/python3.12/dist-packages (from matplotlib) (25.0)\n",
            "Requirement already satisfied: pillow>=8 in /usr/local/lib/python3.12/dist-packages (from matplotlib) (11.3.0)\n",
            "Requirement already satisfied: pyparsing>=2.3.1 in /usr/local/lib/python3.12/dist-packages (from matplotlib) (3.2.5)\n",
            "Requirement already satisfied: python-dateutil>=2.7 in /usr/local/lib/python3.12/dist-packages (from matplotlib) (2.9.0.post0)\n",
            "Requirement already satisfied: six>=1.5 in /usr/local/lib/python3.12/dist-packages (from python-dateutil>=2.7->matplotlib) (1.17.0)\n"
          ]
        }
      ]
    },
    {
      "cell_type": "code",
      "source": [
        "%%writefile /content/quantum_time_capsule/app.py\n",
        "import os\n",
        "import sys\n",
        "import time\n",
        "import streamlit as st\n",
        "import importlib\n",
        "import matplotlib\n",
        "matplotlib.use(\"Agg\")\n",
        "from datetime import datetime\n",
        "\n",
        "# ==============================================================\n",
        "# Setup\n",
        "# ==============================================================\n",
        "PROJECT_DIR = '/content/quantum_time_capsule'\n",
        "if PROJECT_DIR not in sys.path:\n",
        "    sys.path.append(PROJECT_DIR)\n",
        "\n",
        "try:\n",
        "    import quantum_scenes\n",
        "    importlib.reload(quantum_scenes)\n",
        "    from quantum_scenes import run_double_slit, run_cat, run_bell, run_future\n",
        "except Exception as e:\n",
        "    st.set_page_config(page_title=\"Quantum Time Capsule\", page_icon=\"⚛️\")\n",
        "    st.error(f\"Error importing quantum_scenes: {e}\")\n",
        "    st.stop()\n",
        "\n",
        "st.set_page_config(page_title=\"Quantum Time Capsule\", page_icon=\"⚛️\", layout=\"wide\")\n",
        "\n",
        "# ==============================================================\n",
        "# Styles\n",
        "# ==============================================================\n",
        "st.markdown(\"\"\"\n",
        "<style>\n",
        ".stApp {\n",
        "  background: linear-gradient(135deg, #ff66cc, #7b2ff7);\n",
        "  color: white;\n",
        "  font-family: 'Poppins', sans-serif;\n",
        "}\n",
        ".stButton>button {\n",
        "  background: #fbb6ce;\n",
        "  color: #000;\n",
        "  border: none;\n",
        "  border-radius: 999px;\n",
        "  font-weight: bold;\n",
        "  padding: 0.6rem 1.2rem;\n",
        "  transition: all 0.25s ease-in-out;\n",
        "}\n",
        ".stButton>button:hover {\n",
        "  background: #fff;\n",
        "  color: #ff66cc;\n",
        "  box-shadow: 0 0 25px rgba(255,255,255,0.4);\n",
        "}\n",
        "</style>\n",
        "\"\"\", unsafe_allow_html=True)\n",
        "\n",
        "# ==============================================================\n",
        "# State control\n",
        "# ==============================================================\n",
        "pages = [\"intro\", \"double_slit\", \"cat\", \"bell\", \"future\", \"outro\"]\n",
        "if \"page\" not in st.session_state:\n",
        "    st.session_state.page = \"intro\"\n",
        "\n",
        "def go_to(page):\n",
        "    st.session_state.page = page\n",
        "\n",
        "def wait_for_file(path, timeout=2):\n",
        "    \"\"\"Wait for a file to appear (avoid race conditions).\"\"\"\n",
        "    start = time.time()\n",
        "    while time.time() - start < timeout:\n",
        "        if os.path.exists(path):\n",
        "            return True\n",
        "        time.sleep(0.1)\n",
        "    return False\n",
        "\n",
        "def show_narration_bar(audio_path):\n",
        "    \"\"\"Show a persistent audio bar for narration.\"\"\"\n",
        "    if os.path.exists(audio_path):\n",
        "        st.audio(audio_path, format=\"audio/mp3\")\n",
        "    else:\n",
        "        st.warning(f\"🎧 Audio file not found: {audio_path}\")\n",
        "\n",
        "\n",
        "def narration_controls(audio_path, label=\"🔊 Play Narration\"):\n",
        "    \"\"\"Show a Play Narration button and play if clicked or autoplay fails.\"\"\"\n",
        "    if os.path.exists(audio_path):\n",
        "        # Try autoplay (hidden)\n",
        "        st.markdown(\n",
        "            f\"\"\"\n",
        "            <audio id=\"narration\" autoplay hidden>\n",
        "                <source src=\"file://{audio_path}\" type=\"audio/mp3\">\n",
        "            </audio>\n",
        "            \"\"\",\n",
        "            unsafe_allow_html=True\n",
        "        )\n",
        "        # Manual play fallback\n",
        "        if st.button(label):\n",
        "            st.audio(audio_path, format=\"audio/mp3\")\n",
        "    else:\n",
        "        st.warning(f\"🎧 Audio file not found: {audio_path}\")\n",
        "\n",
        "\n",
        "# ==============================================================\n",
        "# PAGE LOGIC\n",
        "# ==============================================================\n",
        "\n",
        "page = st.session_state.page\n",
        "\n",
        "# ---------- INTRO ----------\n",
        "if page == \"intro\":\n",
        "    st.title(\"🌌 Quantum Time Capsule\")\n",
        "    st.subheader(\"A Journey Through 100 Years of Quantum Discovery\")\n",
        "    st.write(\"Step into the Quantum Time Capsule — an immersive quantum storytelling experience powered by real quantum circuits.\")\n",
        "    st.image(\"https://upload.wikimedia.org/wikipedia/commons/6/6b/Bloch_sphere.svg\", caption=\"Qubit on the Bloch Sphere\")\n",
        "    show_narration_bar(\"/content/quantum_time_capsule/assets/intro.mp3\")\n",
        "\n",
        "    if st.button(\"🚀 Begin Journey\"):\n",
        "        go_to(\"double_slit\")\n",
        "\n",
        "# ---------- DOUBLE SLIT ----------\n",
        "\n",
        "elif page == \"double_slit\":\n",
        "    st.header(\"1927 — The Double Slit Experiment\")\n",
        "    st.write(\"In 1927, the double slit experiment revealed that light behaves as both a wave and a particle\")\n",
        "\n",
        "    show_narration_bar(\"/content/quantum_time_capsule/assets/1927_double_slit.mp3\")\n",
        "\n",
        "\n",
        "\n",
        "    if st.button(\"Run Double Slit Simulation 🧪\"):\n",
        "        fig, hist_path, circuit_path, result = run_double_slit()\n",
        "        # Histogram\n",
        "        if hist_path and os.path.exists(hist_path):\n",
        "            st.image(hist_path, caption=\"Quantum Interference Pattern\", use_container_width=True)\n",
        "        else:\n",
        "            st.warning(\"Histogram file not found!\")\n",
        "\n",
        "        # Circuit\n",
        "        if circuit_path and os.path.exists(circuit_path):\n",
        "            st.image(circuit_path, caption=\"Quantum Circuit Diagram\", use_container_width=True)\n",
        "        else:\n",
        "            st.warning(\"Circuit file not found!\")\n",
        "\n",
        "    col1, col2 = st.columns(2)\n",
        "    with col1:\n",
        "        if st.button(\"⬅ Back\"):\n",
        "            go_to(\"intro\")\n",
        "    with col2:\n",
        "        if st.button(\"Next ➡ Schrödinger’s Cat\"):\n",
        "            go_to(\"cat\")\n",
        "\n",
        "# ---------- SCHRÖDINGER'S CAT ----------\n",
        "elif page == \"cat\":\n",
        "    st.header(\"1935 — Schrödinger's Cat 🐱\")\n",
        "    st.write(\"A cat in a box — simultaneously alive and dead until observed.\")\n",
        "\n",
        "\n",
        "    show_narration_bar(\"/content/quantum_time_capsule/assets/1935_schrodinger.mp3\")\n",
        "\n",
        "\n",
        "    if st.button(\"Open the Box 🎁\"):\n",
        "        fig, hist_path, circuit_path, result = run_cat()\n",
        "        # Histogram\n",
        "        if hist_path and os.path.exists(hist_path):\n",
        "            st.image(hist_path, caption=\"Measurement Distribution\", use_container_width=True)\n",
        "        # Circuit\n",
        "        if circuit_path and os.path.exists(circuit_path):\n",
        "            st.image(circuit_path, caption=\"Circuit Diagram\", use_container_width=True)\n",
        "        st.success(f\"The cat is: {result}\")\n",
        "\n",
        "    col1, col2 = st.columns(2)\n",
        "    with col1:\n",
        "        if st.button(\"⬅ Back\"):\n",
        "            go_to(\"double_slit\")\n",
        "    with col2:\n",
        "        if st.button(\"Next ➡ Bell’s Theorem\"):\n",
        "            go_to(\"bell\")\n",
        "\n",
        "# ---------- BELL’S THEOREM ----------\n",
        "elif page == \"bell\":\n",
        "    st.header(\"1964 — Bell’s Theorem & Quantum Entanglement 🔗\")\n",
        "    st.write(\"Two particles become entangled — measuring one instantly affects the other.\")\n",
        "\n",
        "    show_narration_bar(\"/content/quantum_time_capsule/assets/1964_bell.mp3\")\n",
        "\n",
        "\n",
        "\n",
        "    if st.button(\"Run Bell Pair Simulation 🧬\"):\n",
        "        fig, hist_path, circuit_path, result = run_bell()\n",
        "        if hist_path and os.path.exists(hist_path):\n",
        "            st.image(hist_path, caption=\"Entanglement Measurement Results\", use_container_width=True)\n",
        "        if circuit_path and os.path.exists(circuit_path):\n",
        "            st.image(circuit_path, caption=\"Circuit Diagram\", use_container_width=True)\n",
        "        st.json(result[\"counts\"])\n",
        "        st.metric(\"Correlation\", f\"{result['correlation_percent']:.2f}%\")\n",
        "\n",
        "    col1, col2 = st.columns(2)\n",
        "    with col1:\n",
        "        if st.button(\"⬅ Back\"):\n",
        "            go_to(\"cat\")\n",
        "    with col2:\n",
        "        if st.button(\"Next ➡ Quantum Future\"):\n",
        "            go_to(\"future\")\n",
        "\n",
        "\n",
        "# ---------- FUTURE ----------\n",
        "elif page == \"future\":\n",
        "    st.header(\"2125 — The Quantum Future 🚀\")\n",
        "    st.write(\"Quantum technologies dominate our world. Let's see what fate awaits...\")\n",
        "\n",
        "\n",
        "    show_narration_bar(\"/content/quantum_time_capsule/assets/2125_future.mp3\")\n",
        "\n",
        "\n",
        "    if st.button(\"Generate Future Headline 📰\"):\n",
        "        fig, hist_path, circuit_path, result = run_future()\n",
        "        if hist_path and os.path.exists(hist_path):\n",
        "            st.image(hist_path, caption=\"Quantum Random Generator Distribution\", use_container_width=True)\n",
        "        if circuit_path and os.path.exists(circuit_path):\n",
        "            st.image(circuit_path, caption=\"Quantum Circuit Diagram\", use_container_width=True)\n",
        "        st.info(result[\"headline\"])\n",
        "\n",
        "    col1, col2 = st.columns(2)\n",
        "    with col1:\n",
        "        if st.button(\"⬅ Back\"):\n",
        "            go_to(\"bell\")\n",
        "    with col2:\n",
        "        if st.button(\"Next ➡ Outro\"):\n",
        "            go_to(\"outro\")\n",
        "\n",
        "\n",
        "# ---------- OUTRO ----------\n",
        "elif page == \"outro\":\n",
        "    st.header(\"✨ End of Journey\")\n",
        "    st.write(\"\"\"\n",
        "    You've completed a century-long odyssey through the evolution of quantum theory —\n",
        "    from the mysteries of interference to the promises of the quantum future.\n",
        "    \"\"\")\n",
        "\n",
        "    show_narration_bar(\"/content/quantum_time_capsule/assets/outro.mp3\")\n",
        "\n",
        "\n",
        "    if st.button(\"🔁 Restart Journey\"):\n",
        "        go_to(\"intro\")\n",
        "\n",
        "st.markdown(\"---\")\n",
        "st.caption(f\"© {datetime.now().year} Quantum Time Capsule — Open Quantum Project ⚛️\")\n"
      ],
      "metadata": {
        "colab": {
          "base_uri": "https://localhost:8080/"
        },
        "id": "X2yKw_rdKas6",
        "outputId": "010eb8a4-db14-40e4-8b32-27cb4c511186"
      },
      "execution_count": null,
      "outputs": [
        {
          "output_type": "stream",
          "name": "stdout",
          "text": [
            "Overwriting /content/quantum_time_capsule/app.py\n"
          ]
        }
      ]
    },
    {
      "cell_type": "code",
      "source": [
        "import os\n",
        "print(\"Files in assets folder:\")\n",
        "print(os.listdir(\"/content/quantum_time_capsule/assets\"))\n"
      ],
      "metadata": {
        "colab": {
          "base_uri": "https://localhost:8080/"
        },
        "id": "QvBIvmnfkJ5r",
        "outputId": "81a8299a-f768-4182-a687-bc3f60107763"
      },
      "execution_count": null,
      "outputs": [
        {
          "output_type": "stream",
          "name": "stdout",
          "text": [
            "Files in assets folder:\n",
            "['double_slit_hist.png', 'bell_state.png', 'double_slit_circuit.png', 'double_slit.png']\n"
          ]
        }
      ]
    },
    {
      "cell_type": "code",
      "source": [
        "!pip install pylatexenc matplotlib qiskit qiskit-aer --quiet\n"
      ],
      "metadata": {
        "id": "aSBIa3DReQZj"
      },
      "execution_count": null,
      "outputs": []
    },
    {
      "cell_type": "code",
      "source": [
        "!pip install streamlit pyngrok qiskit matplotlib\n"
      ],
      "metadata": {
        "id": "3pz_XOIApj8X",
        "colab": {
          "base_uri": "https://localhost:8080/"
        },
        "outputId": "337ca258-770d-4a38-d0a9-16b76e6b64c1"
      },
      "execution_count": null,
      "outputs": [
        {
          "output_type": "stream",
          "name": "stdout",
          "text": [
            "Requirement already satisfied: streamlit in /usr/local/lib/python3.12/dist-packages (1.50.0)\n",
            "Requirement already satisfied: pyngrok in /usr/local/lib/python3.12/dist-packages (7.4.0)\n",
            "Requirement already satisfied: qiskit in /usr/local/lib/python3.12/dist-packages (2.2.2)\n",
            "Requirement already satisfied: matplotlib in /usr/local/lib/python3.12/dist-packages (3.10.0)\n",
            "Requirement already satisfied: altair!=5.4.0,!=5.4.1,<6,>=4.0 in /usr/local/lib/python3.12/dist-packages (from streamlit) (5.5.0)\n",
            "Requirement already satisfied: blinker<2,>=1.5.0 in /usr/local/lib/python3.12/dist-packages (from streamlit) (1.9.0)\n",
            "Requirement already satisfied: cachetools<7,>=4.0 in /usr/local/lib/python3.12/dist-packages (from streamlit) (5.5.2)\n",
            "Requirement already satisfied: click<9,>=7.0 in /usr/local/lib/python3.12/dist-packages (from streamlit) (8.1.8)\n",
            "Requirement already satisfied: numpy<3,>=1.23 in /usr/local/lib/python3.12/dist-packages (from streamlit) (2.0.2)\n",
            "Requirement already satisfied: packaging<26,>=20 in /usr/local/lib/python3.12/dist-packages (from streamlit) (25.0)\n",
            "Requirement already satisfied: pandas<3,>=1.4.0 in /usr/local/lib/python3.12/dist-packages (from streamlit) (2.2.2)\n",
            "Requirement already satisfied: pillow<12,>=7.1.0 in /usr/local/lib/python3.12/dist-packages (from streamlit) (11.3.0)\n",
            "Requirement already satisfied: protobuf<7,>=3.20 in /usr/local/lib/python3.12/dist-packages (from streamlit) (5.29.5)\n",
            "Requirement already satisfied: pyarrow>=7.0 in /usr/local/lib/python3.12/dist-packages (from streamlit) (18.1.0)\n",
            "Requirement already satisfied: requests<3,>=2.27 in /usr/local/lib/python3.12/dist-packages (from streamlit) (2.32.4)\n",
            "Requirement already satisfied: tenacity<10,>=8.1.0 in /usr/local/lib/python3.12/dist-packages (from streamlit) (8.5.0)\n",
            "Requirement already satisfied: toml<2,>=0.10.1 in /usr/local/lib/python3.12/dist-packages (from streamlit) (0.10.2)\n",
            "Requirement already satisfied: typing-extensions<5,>=4.4.0 in /usr/local/lib/python3.12/dist-packages (from streamlit) (4.15.0)\n",
            "Requirement already satisfied: watchdog<7,>=2.1.5 in /usr/local/lib/python3.12/dist-packages (from streamlit) (6.0.0)\n",
            "Requirement already satisfied: gitpython!=3.1.19,<4,>=3.0.7 in /usr/local/lib/python3.12/dist-packages (from streamlit) (3.1.45)\n",
            "Requirement already satisfied: pydeck<1,>=0.8.0b4 in /usr/local/lib/python3.12/dist-packages (from streamlit) (0.9.1)\n",
            "Requirement already satisfied: tornado!=6.5.0,<7,>=6.0.3 in /usr/local/lib/python3.12/dist-packages (from streamlit) (6.5.1)\n",
            "Requirement already satisfied: PyYAML>=5.1 in /usr/local/lib/python3.12/dist-packages (from pyngrok) (6.0.3)\n",
            "Requirement already satisfied: rustworkx>=0.15.0 in /usr/local/lib/python3.12/dist-packages (from qiskit) (0.17.1)\n",
            "Requirement already satisfied: scipy>=1.5 in /usr/local/lib/python3.12/dist-packages (from qiskit) (1.16.2)\n",
            "Requirement already satisfied: dill>=0.3 in /usr/local/lib/python3.12/dist-packages (from qiskit) (0.3.8)\n",
            "Requirement already satisfied: stevedore>=3.0.0 in /usr/local/lib/python3.12/dist-packages (from qiskit) (5.5.0)\n",
            "Requirement already satisfied: contourpy>=1.0.1 in /usr/local/lib/python3.12/dist-packages (from matplotlib) (1.3.3)\n",
            "Requirement already satisfied: cycler>=0.10 in /usr/local/lib/python3.12/dist-packages (from matplotlib) (0.12.1)\n",
            "Requirement already satisfied: fonttools>=4.22.0 in /usr/local/lib/python3.12/dist-packages (from matplotlib) (4.60.1)\n",
            "Requirement already satisfied: kiwisolver>=1.3.1 in /usr/local/lib/python3.12/dist-packages (from matplotlib) (1.4.9)\n",
            "Requirement already satisfied: pyparsing>=2.3.1 in /usr/local/lib/python3.12/dist-packages (from matplotlib) (3.2.5)\n",
            "Requirement already satisfied: python-dateutil>=2.7 in /usr/local/lib/python3.12/dist-packages (from matplotlib) (2.9.0.post0)\n",
            "Requirement already satisfied: jinja2 in /usr/local/lib/python3.12/dist-packages (from altair!=5.4.0,!=5.4.1,<6,>=4.0->streamlit) (3.1.6)\n",
            "Requirement already satisfied: jsonschema>=3.0 in /usr/local/lib/python3.12/dist-packages (from altair!=5.4.0,!=5.4.1,<6,>=4.0->streamlit) (4.25.1)\n",
            "Requirement already satisfied: narwhals>=1.14.2 in /usr/local/lib/python3.12/dist-packages (from altair!=5.4.0,!=5.4.1,<6,>=4.0->streamlit) (2.8.0)\n",
            "Requirement already satisfied: gitdb<5,>=4.0.1 in /usr/local/lib/python3.12/dist-packages (from gitpython!=3.1.19,<4,>=3.0.7->streamlit) (4.0.12)\n",
            "Requirement already satisfied: pytz>=2020.1 in /usr/local/lib/python3.12/dist-packages (from pandas<3,>=1.4.0->streamlit) (2025.2)\n",
            "Requirement already satisfied: tzdata>=2022.7 in /usr/local/lib/python3.12/dist-packages (from pandas<3,>=1.4.0->streamlit) (2025.2)\n",
            "Requirement already satisfied: six>=1.5 in /usr/local/lib/python3.12/dist-packages (from python-dateutil>=2.7->matplotlib) (1.17.0)\n",
            "Requirement already satisfied: charset_normalizer<4,>=2 in /usr/local/lib/python3.12/dist-packages (from requests<3,>=2.27->streamlit) (3.4.4)\n",
            "Requirement already satisfied: idna<4,>=2.5 in /usr/local/lib/python3.12/dist-packages (from requests<3,>=2.27->streamlit) (3.11)\n",
            "Requirement already satisfied: urllib3<3,>=1.21.1 in /usr/local/lib/python3.12/dist-packages (from requests<3,>=2.27->streamlit) (2.5.0)\n",
            "Requirement already satisfied: certifi>=2017.4.17 in /usr/local/lib/python3.12/dist-packages (from requests<3,>=2.27->streamlit) (2025.10.5)\n",
            "Requirement already satisfied: smmap<6,>=3.0.1 in /usr/local/lib/python3.12/dist-packages (from gitdb<5,>=4.0.1->gitpython!=3.1.19,<4,>=3.0.7->streamlit) (5.0.2)\n",
            "Requirement already satisfied: MarkupSafe>=2.0 in /usr/local/lib/python3.12/dist-packages (from jinja2->altair!=5.4.0,!=5.4.1,<6,>=4.0->streamlit) (3.0.3)\n",
            "Requirement already satisfied: attrs>=22.2.0 in /usr/local/lib/python3.12/dist-packages (from jsonschema>=3.0->altair!=5.4.0,!=5.4.1,<6,>=4.0->streamlit) (25.4.0)\n",
            "Requirement already satisfied: jsonschema-specifications>=2023.03.6 in /usr/local/lib/python3.12/dist-packages (from jsonschema>=3.0->altair!=5.4.0,!=5.4.1,<6,>=4.0->streamlit) (2025.9.1)\n",
            "Requirement already satisfied: referencing>=0.28.4 in /usr/local/lib/python3.12/dist-packages (from jsonschema>=3.0->altair!=5.4.0,!=5.4.1,<6,>=4.0->streamlit) (0.37.0)\n",
            "Requirement already satisfied: rpds-py>=0.7.1 in /usr/local/lib/python3.12/dist-packages (from jsonschema>=3.0->altair!=5.4.0,!=5.4.1,<6,>=4.0->streamlit) (0.27.1)\n"
          ]
        }
      ]
    },
    {
      "cell_type": "code",
      "source": [
        "!pip install qiskit qiskit-aer --quiet\n"
      ],
      "metadata": {
        "id": "cO9iiTREbtPv"
      },
      "execution_count": null,
      "outputs": []
    },
    {
      "cell_type": "code",
      "source": [
        "#==================================================================================================================================================================================================================================================================================================================================================================\n",
        "#================================================================================================================================================"
      ],
      "metadata": {
        "id": "DHjLzGemEYE_"
      },
      "execution_count": null,
      "outputs": []
    },
    {
      "cell_type": "code",
      "source": [
        "!pip install pyngrok --quiet\n",
        "!pip install streamlit pyngrok --quiet\n"
      ],
      "metadata": {
        "id": "aVx3jTFKEkMr"
      },
      "execution_count": null,
      "outputs": []
    },
    {
      "cell_type": "code",
      "source": [
        "!pip install streamlit --quiet\n"
      ],
      "metadata": {
        "id": "PyuNrsjbHbm9"
      },
      "execution_count": null,
      "outputs": []
    },
    {
      "cell_type": "code",
      "source": [
        "!pip install --upgrade qiskit pylatexenc\n"
      ],
      "metadata": {
        "colab": {
          "base_uri": "https://localhost:8080/"
        },
        "id": "Gc9UxTW4rBiL",
        "outputId": "53d1783f-10e0-4475-8cee-5ae043f0a5a0"
      },
      "execution_count": null,
      "outputs": [
        {
          "output_type": "stream",
          "name": "stdout",
          "text": [
            "Requirement already satisfied: qiskit in /usr/local/lib/python3.12/dist-packages (2.2.2)\n",
            "Requirement already satisfied: pylatexenc in /usr/local/lib/python3.12/dist-packages (2.10)\n",
            "Requirement already satisfied: rustworkx>=0.15.0 in /usr/local/lib/python3.12/dist-packages (from qiskit) (0.17.1)\n",
            "Requirement already satisfied: numpy<3,>=1.17 in /usr/local/lib/python3.12/dist-packages (from qiskit) (2.0.2)\n",
            "Requirement already satisfied: scipy>=1.5 in /usr/local/lib/python3.12/dist-packages (from qiskit) (1.16.2)\n",
            "Requirement already satisfied: dill>=0.3 in /usr/local/lib/python3.12/dist-packages (from qiskit) (0.3.8)\n",
            "Requirement already satisfied: stevedore>=3.0.0 in /usr/local/lib/python3.12/dist-packages (from qiskit) (5.5.0)\n",
            "Requirement already satisfied: typing-extensions in /usr/local/lib/python3.12/dist-packages (from qiskit) (4.15.0)\n"
          ]
        }
      ]
    },
    {
      "cell_type": "code",
      "source": [
        "import pylatexenc\n",
        "print(\"pylatexenc version:\", pylatexenc.__version__)\n"
      ],
      "metadata": {
        "colab": {
          "base_uri": "https://localhost:8080/"
        },
        "id": "eWLzkvRdrEVk",
        "outputId": "1758f964-0cd1-4993-f29b-7bc1597bc97f"
      },
      "execution_count": null,
      "outputs": [
        {
          "output_type": "stream",
          "name": "stdout",
          "text": [
            "pylatexenc version: 2.10\n"
          ]
        }
      ]
    },
    {
      "cell_type": "code",
      "source": [
        "# --- Reset ngrok configuration and sessions ---\n",
        "!pkill ngrok || echo \"No ngrok process running.\"\n",
        "\n",
        "!rm -rf /root/.ngrok2 /root/.config/ngrok\n",
        "!pip install pyngrok --quiet\n",
        "\n",
        "from pyngrok import ngrok\n",
        "import time\n",
        "\n",
        "# --- Re-add your token ---\n",
        "!ngrok config add-authtoken \"349JeEDuwzrP28lSdnEwT3gpWbM_5QEXD4gzVzC6bsphxe2oF\"\n",
        "\n",
        "print(\"✅ ngrok reset and re-authenticated.\")\n"
      ],
      "metadata": {
        "colab": {
          "base_uri": "https://localhost:8080/"
        },
        "id": "pu34wdVcHwC6",
        "outputId": "853634a6-faab-4349-8d34-f4cad0bddd00"
      },
      "execution_count": null,
      "outputs": [
        {
          "output_type": "stream",
          "name": "stderr",
          "text": [
            "WARNING:pyngrok.process.ngrok:t=2025-10-22T16:50:07+0000 lvl=warn msg=\"Stopping forwarder\" name=http-8507-30d7df02-b302-4d41-8876-a853ae3bb74a acceptErr=\"failed to accept connection: Listener closed\"\n",
            "WARNING:pyngrok.process.ngrok:t=2025-10-22T16:50:07+0000 lvl=warn msg=\"Error restarting forwarder\" name=http-8507-30d7df02-b302-4d41-8876-a853ae3bb74a err=\"failed to start tunnel: session closed\"\n"
          ]
        },
        {
          "output_type": "stream",
          "name": "stdout",
          "text": [
            "Authtoken saved to configuration file: /root/.config/ngrok/ngrok.yml\n",
            "✅ ngrok reset and re-authenticated.\n"
          ]
        }
      ]
    },
    {
      "cell_type": "code",
      "source": [
        "# Run Streamlit quietly in the background\n",
        "get_ipython().system_raw(\"streamlit run /content/quantum_time_capsule/app.py --server.port 8507 &\")\n",
        "\n",
        "time.sleep(5)\n",
        "print(\"✅ Streamlit app is running in the background.\")\n"
      ],
      "metadata": {
        "id": "dJ8ESWotLXmI",
        "colab": {
          "base_uri": "https://localhost:8080/"
        },
        "outputId": "fc09c95e-c2a5-4f94-c95f-c8566c7f48e3"
      },
      "execution_count": null,
      "outputs": [
        {
          "output_type": "stream",
          "name": "stdout",
          "text": [
            "✅ Streamlit app is running in the background.\n"
          ]
        }
      ]
    },
    {
      "cell_type": "code",
      "source": [
        "from pyngrok import ngrok\n",
        "\n",
        "# Connect ngrok to Streamlit port\n",
        "public_url = ngrok.connect(8507)\n",
        "\n",
        "# Just show the clean clickable link\n",
        "print(f\"\\n🌍 CLICK HERE to open your Quantum Time Capsule app:\\n{public_url.public_url}\")\n"
      ],
      "metadata": {
        "id": "PFxdW652Na9l",
        "outputId": "b8e0ab3c-7f0b-4268-b8e4-c7cac8df6bdb",
        "colab": {
          "base_uri": "https://localhost:8080/"
        }
      },
      "execution_count": null,
      "outputs": [
        {
          "output_type": "stream",
          "name": "stdout",
          "text": [
            "\n",
            "🌍 CLICK HERE to open your Quantum Time Capsule app:\n",
            "https://imelda-hyperemic-tumidly.ngrok-free.dev\n"
          ]
        }
      ]
    },
    {
      "cell_type": "code",
      "source": [
        "!mkdir -p /content/quantum_time_capsule/assets\n"
      ],
      "metadata": {
        "id": "z29v7wAklKhw"
      },
      "execution_count": null,
      "outputs": []
    },
    {
      "cell_type": "code",
      "source": [
        "%%writefile /content/quantum_time_capsule/narration.py\n",
        "from gtts import gTTS\n",
        "import os\n",
        "\n",
        "\n",
        "\n",
        "# --- Narration texts for each quantum scene ---\n",
        "narrations = {\n",
        "    \"intro\": \"Welcome to the Quantum Time Capsule. Journey with us through a hundred years of quantum discovery.\",\n",
        "    \"1927_double_slit\": \"In 1927, the double slit experiment revealed that light behaves as both a wave and a particle.\",\n",
        "    \"1935_schrodinger\": \"In 1935, Erwin Schrödinger imagined a cat that was both dead and alive, illustrating quantum superposition.\",\n",
        "    \"1964_bell\": \"In 1964, John Bell proposed his famous theorem, showing that quantum mechanics defies classical ideas of locality.\",\n",
        "    \"2125_future\": \"In 2125, quantum computers shape our world, solving problems once thought impossible.\",\n",
        "    \"outro\": \"Congratulations, traveler. You have witnessed the milestones of quantum history. The journey continues into the unknown future.\"\n",
        "}\n",
        "\n",
        "\n",
        "# --- Convert each narration to audio and save in the project assets folder ---\n",
        "ASSETS_DIR = \"/content/quantum_time_capsule/assets\"\n",
        "os.makedirs(ASSETS_DIR, exist_ok=True)\n",
        "\n",
        "for key, text in narrations.items():\n",
        "    tts = gTTS(text)\n",
        "    filename = os.path.join(ASSETS_DIR, f\"{key}.mp3\")\n",
        "    tts.save(filename)\n",
        "    print(f\"✅ Saved: {filename}\")\n"
      ],
      "metadata": {
        "id": "xqixYPE2v8oU",
        "colab": {
          "base_uri": "https://localhost:8080/"
        },
        "outputId": "15b69738-986f-4e91-f9b5-f1e3a4f058d6"
      },
      "execution_count": null,
      "outputs": [
        {
          "output_type": "stream",
          "name": "stdout",
          "text": [
            "Overwriting /content/quantum_time_capsule/narration.py\n"
          ]
        }
      ]
    },
    {
      "cell_type": "code",
      "source": [
        "!python /content/quantum_time_capsule/narration.py\n"
      ],
      "metadata": {
        "colab": {
          "base_uri": "https://localhost:8080/"
        },
        "id": "RaESfwkdxTT9",
        "outputId": "2cd64aef-869d-4fe1-f865-a42be6e0b55a"
      },
      "execution_count": null,
      "outputs": [
        {
          "output_type": "stream",
          "name": "stdout",
          "text": [
            "✅ Saved: /content/quantum_time_capsule/assets/intro.mp3\n",
            "✅ Saved: /content/quantum_time_capsule/assets/1927_double_slit.mp3\n",
            "✅ Saved: /content/quantum_time_capsule/assets/1935_schrodinger.mp3\n",
            "✅ Saved: /content/quantum_time_capsule/assets/1964_bell.mp3\n",
            "✅ Saved: /content/quantum_time_capsule/assets/2125_future.mp3\n",
            "✅ Saved: /content/quantum_time_capsule/assets/outro.mp3\n"
          ]
        }
      ]
    },
    {
      "cell_type": "code",
      "source": [
        "import os\n",
        "os.listdir(\"/content/quantum_time_capsule/assets\")\n",
        "\n"
      ],
      "metadata": {
        "colab": {
          "base_uri": "https://localhost:8080/"
        },
        "id": "Jr_Wt_GOpl7c",
        "outputId": "ffbe9757-fadf-4b2e-ba20-a7f617815257"
      },
      "execution_count": null,
      "outputs": [
        {
          "output_type": "execute_result",
          "data": {
            "text/plain": [
              "['double_slit_hist.png',\n",
              " '1927_double_slit.mp3',\n",
              " 'outro.mp3',\n",
              " 'intro.mp3',\n",
              " '1935_schrodinger.mp3',\n",
              " 'bell_state.png',\n",
              " '2125_future.mp3',\n",
              " 'double_slit_circuit.png',\n",
              " 'double_slit.png',\n",
              " '1964_bell.mp3']"
            ]
          },
          "metadata": {},
          "execution_count": 27
        }
      ]
    },
    {
      "cell_type": "code",
      "source": [
        "!mkdir -p quantum_time_capsule/assets\n",
        "%cd quantum_time_capsule\n"
      ],
      "metadata": {
        "id": "BCPojG1Xv_z9",
        "colab": {
          "base_uri": "https://localhost:8080/"
        },
        "outputId": "82e8e0ef-a80f-4117-bba6-761f35f87833"
      },
      "execution_count": null,
      "outputs": [
        {
          "output_type": "stream",
          "name": "stdout",
          "text": [
            "/content/quantum_time_capsule\n"
          ]
        }
      ]
    },
    {
      "cell_type": "code",
      "source": [
        "!pip install qiskit qiskit-aer matplotlib --quiet\n"
      ],
      "metadata": {
        "id": "KEKzdsjA5NNt",
        "colab": {
          "base_uri": "https://localhost:8080/"
        },
        "outputId": "ac86e87e-61d2-40af-9c07-ffe9db7b9de4"
      },
      "execution_count": null,
      "outputs": [
        {
          "output_type": "stream",
          "name": "stderr",
          "text": [
            "WARNING:pyngrok.process.ngrok:t=2025-10-22T15:51:05+0000 lvl=warn msg=\"failed to check for update\" obj=updater err=\"Post \\\"https://update.equinox.io/check\\\": context deadline exceeded\"\n"
          ]
        }
      ]
    },
    {
      "cell_type": "code",
      "source": [
        "%cd /content/quantum_time_capsule\n"
      ],
      "metadata": {
        "id": "M8MJlFmg5Yc6",
        "colab": {
          "base_uri": "https://localhost:8080/"
        },
        "outputId": "e92e4e7b-4c49-4a2d-fa00-32c8ff4badc0"
      },
      "execution_count": null,
      "outputs": [
        {
          "output_type": "stream",
          "name": "stdout",
          "text": [
            "/content/quantum_time_capsule\n"
          ]
        }
      ]
    },
    {
      "cell_type": "code",
      "source": [
        "!pip install qiskit-aer\n"
      ],
      "metadata": {
        "id": "d-JQzeXz6WrX",
        "colab": {
          "base_uri": "https://localhost:8080/"
        },
        "outputId": "e5bedca0-76a1-4158-eefd-103ff38d35c4"
      },
      "execution_count": null,
      "outputs": [
        {
          "output_type": "stream",
          "name": "stdout",
          "text": [
            "Requirement already satisfied: qiskit-aer in /usr/local/lib/python3.12/dist-packages (0.17.2)\n",
            "Requirement already satisfied: qiskit>=1.1.0 in /usr/local/lib/python3.12/dist-packages (from qiskit-aer) (2.2.2)\n",
            "Requirement already satisfied: numpy>=1.16.3 in /usr/local/lib/python3.12/dist-packages (from qiskit-aer) (2.0.2)\n",
            "Requirement already satisfied: scipy>=1.0 in /usr/local/lib/python3.12/dist-packages (from qiskit-aer) (1.16.2)\n",
            "Requirement already satisfied: psutil>=5 in /usr/local/lib/python3.12/dist-packages (from qiskit-aer) (5.9.5)\n",
            "Requirement already satisfied: python-dateutil>=2.8.0 in /usr/local/lib/python3.12/dist-packages (from qiskit-aer) (2.9.0.post0)\n",
            "Requirement already satisfied: six>=1.5 in /usr/local/lib/python3.12/dist-packages (from python-dateutil>=2.8.0->qiskit-aer) (1.17.0)\n",
            "Requirement already satisfied: rustworkx>=0.15.0 in /usr/local/lib/python3.12/dist-packages (from qiskit>=1.1.0->qiskit-aer) (0.17.1)\n",
            "Requirement already satisfied: dill>=0.3 in /usr/local/lib/python3.12/dist-packages (from qiskit>=1.1.0->qiskit-aer) (0.3.8)\n",
            "Requirement already satisfied: stevedore>=3.0.0 in /usr/local/lib/python3.12/dist-packages (from qiskit>=1.1.0->qiskit-aer) (5.5.0)\n",
            "Requirement already satisfied: typing-extensions in /usr/local/lib/python3.12/dist-packages (from qiskit>=1.1.0->qiskit-aer) (4.15.0)\n"
          ]
        }
      ]
    },
    {
      "cell_type": "code",
      "source": [
        "!pip install --upgrade qiskit qiskit-aer matplotlib\n"
      ],
      "metadata": {
        "id": "eK_cSzqR6qFn",
        "colab": {
          "base_uri": "https://localhost:8080/",
          "height": 617
        },
        "outputId": "ae67653d-d4d9-4935-f563-71a546316094"
      },
      "execution_count": null,
      "outputs": [
        {
          "output_type": "stream",
          "name": "stdout",
          "text": [
            "Requirement already satisfied: qiskit in /usr/local/lib/python3.12/dist-packages (2.2.2)\n",
            "Requirement already satisfied: qiskit-aer in /usr/local/lib/python3.12/dist-packages (0.17.2)\n",
            "Requirement already satisfied: matplotlib in /usr/local/lib/python3.12/dist-packages (3.10.0)\n",
            "Collecting matplotlib\n",
            "  Downloading matplotlib-3.10.7-cp312-cp312-manylinux2014_x86_64.manylinux_2_17_x86_64.whl.metadata (11 kB)\n",
            "Requirement already satisfied: rustworkx>=0.15.0 in /usr/local/lib/python3.12/dist-packages (from qiskit) (0.17.1)\n",
            "Requirement already satisfied: numpy<3,>=1.17 in /usr/local/lib/python3.12/dist-packages (from qiskit) (2.0.2)\n",
            "Requirement already satisfied: scipy>=1.5 in /usr/local/lib/python3.12/dist-packages (from qiskit) (1.16.2)\n",
            "Requirement already satisfied: dill>=0.3 in /usr/local/lib/python3.12/dist-packages (from qiskit) (0.3.8)\n",
            "Requirement already satisfied: stevedore>=3.0.0 in /usr/local/lib/python3.12/dist-packages (from qiskit) (5.5.0)\n",
            "Requirement already satisfied: typing-extensions in /usr/local/lib/python3.12/dist-packages (from qiskit) (4.15.0)\n",
            "Requirement already satisfied: psutil>=5 in /usr/local/lib/python3.12/dist-packages (from qiskit-aer) (5.9.5)\n",
            "Requirement already satisfied: python-dateutil>=2.8.0 in /usr/local/lib/python3.12/dist-packages (from qiskit-aer) (2.9.0.post0)\n",
            "Requirement already satisfied: contourpy>=1.0.1 in /usr/local/lib/python3.12/dist-packages (from matplotlib) (1.3.3)\n",
            "Requirement already satisfied: cycler>=0.10 in /usr/local/lib/python3.12/dist-packages (from matplotlib) (0.12.1)\n",
            "Requirement already satisfied: fonttools>=4.22.0 in /usr/local/lib/python3.12/dist-packages (from matplotlib) (4.60.1)\n",
            "Requirement already satisfied: kiwisolver>=1.3.1 in /usr/local/lib/python3.12/dist-packages (from matplotlib) (1.4.9)\n",
            "Requirement already satisfied: packaging>=20.0 in /usr/local/lib/python3.12/dist-packages (from matplotlib) (25.0)\n",
            "Requirement already satisfied: pillow>=8 in /usr/local/lib/python3.12/dist-packages (from matplotlib) (11.3.0)\n",
            "Requirement already satisfied: pyparsing>=3 in /usr/local/lib/python3.12/dist-packages (from matplotlib) (3.2.5)\n",
            "Requirement already satisfied: six>=1.5 in /usr/local/lib/python3.12/dist-packages (from python-dateutil>=2.8.0->qiskit-aer) (1.17.0)\n",
            "Downloading matplotlib-3.10.7-cp312-cp312-manylinux2014_x86_64.manylinux_2_17_x86_64.whl (8.7 MB)\n",
            "\u001b[2K   \u001b[90m━━━━━━━━━━━━━━━━━━━━━━━━━━━━━━━━━━━━━━━━\u001b[0m \u001b[32m8.7/8.7 MB\u001b[0m \u001b[31m65.1 MB/s\u001b[0m eta \u001b[36m0:00:00\u001b[0m\n",
            "\u001b[?25hInstalling collected packages: matplotlib\n",
            "  Attempting uninstall: matplotlib\n",
            "    Found existing installation: matplotlib 3.10.0\n",
            "    Uninstalling matplotlib-3.10.0:\n",
            "      Successfully uninstalled matplotlib-3.10.0\n",
            "Successfully installed matplotlib-3.10.7\n"
          ]
        },
        {
          "output_type": "display_data",
          "data": {
            "application/vnd.colab-display-data+json": {
              "pip_warning": {
                "packages": [
                  "matplotlib",
                  "mpl_toolkits"
                ]
              },
              "id": "0408fab7a0134a15adce40e60e3708f0"
            }
          },
          "metadata": {}
        }
      ]
    },
    {
      "cell_type": "code",
      "source": [
        "!pip uninstall -y qiskit qiskit-aer\n"
      ],
      "metadata": {
        "id": "BTGogDWr7BLc",
        "colab": {
          "base_uri": "https://localhost:8080/"
        },
        "outputId": "f390d25d-c990-413f-a0a1-2ea88cd63b92"
      },
      "execution_count": null,
      "outputs": [
        {
          "output_type": "stream",
          "name": "stdout",
          "text": [
            "Found existing installation: qiskit 2.2.2\n",
            "Uninstalling qiskit-2.2.2:\n",
            "  Successfully uninstalled qiskit-2.2.2\n",
            "Found existing installation: qiskit-aer 0.17.2\n",
            "Uninstalling qiskit-aer-0.17.2:\n",
            "  Successfully uninstalled qiskit-aer-0.17.2\n"
          ]
        }
      ]
    },
    {
      "cell_type": "code",
      "source": [
        "!pip install qiskit qiskit-aer matplotlib --upgrade\n"
      ],
      "metadata": {
        "id": "zqzfBnIv7EDk",
        "colab": {
          "base_uri": "https://localhost:8080/"
        },
        "outputId": "0ca2f22c-0adf-490a-ab9f-af797ad6759e"
      },
      "execution_count": null,
      "outputs": [
        {
          "output_type": "stream",
          "name": "stderr",
          "text": [
            "WARNING:pyngrok.process.ngrok:t=2025-10-22T15:51:54+0000 lvl=warn msg=\"Stopping forwarder\" name=http-8507-19450e6a-417f-41bd-82dd-8b935998847a acceptErr=\"failed to accept connection: Listener closed\"\n"
          ]
        },
        {
          "output_type": "stream",
          "name": "stdout",
          "text": [
            "\u001b[31mERROR: Operation cancelled by user\u001b[0m\u001b[31m\n",
            "\u001b[0m^C\n"
          ]
        }
      ]
    },
    {
      "cell_type": "code",
      "source": [
        "!pip install qiskit matplotlib --quiet\n"
      ],
      "metadata": {
        "id": "-hMa3g-X7qgi"
      },
      "execution_count": null,
      "outputs": []
    },
    {
      "cell_type": "code",
      "source": [
        "%%writefile /content/quantum_time_capsule/quantum_scenes.py\n",
        "\n",
        "from qiskit import QuantumCircuit, transpile, execute\n",
        "from qiskit import BasicAer  # <- fallback simulator included in core qiskit\n",
        "from qiskit.visualization import plot_histogram\n",
        "import matplotlib.pyplot as plt\n",
        "import os\n",
        "import random\n",
        "\n",
        "# Assets folder\n",
        "ASSETS_DIR = \"/content/quantum_time_capsule/assets\"\n",
        "os.makedirs(ASSETS_DIR, exist_ok=True)\n",
        "\n",
        "# Backend: use BasicAer qasm_simulator\n",
        "BACKEND = BasicAer.get_backend('qasm_simulator')\n",
        "\n",
        "# Helper: save histogram\n",
        "def _save_histogram(counts, filename):\n",
        "    fig = plot_histogram(counts)\n",
        "    path = os.path.join(ASSETS_DIR, filename)\n",
        "    fig.savefig(path, bbox_inches='tight')\n",
        "    plt.close()\n",
        "    return path\n",
        "\n",
        "# 1927: Double Slit\n",
        "def run_double_slit(shots=1024):\n",
        "    qc = QuantumCircuit(1,1)\n",
        "    qc.h(0)\n",
        "    qc.measure_all()\n",
        "    job = execute(qc, BACKEND, shots=shots)\n",
        "    counts = job.result().get_counts()\n",
        "    path = _save_histogram(counts, \"double_slit.png\")\n",
        "    return None, path, None, {\"counts\": counts}\n",
        "\n",
        "# 1935: Schrödinger's Cat\n",
        "def run_cat(shots=1):\n",
        "    qc = QuantumCircuit(1,1)\n",
        "    qc.h(0)\n",
        "    qc.measure_all()\n",
        "    job = execute(qc, BACKEND, shots=shots)\n",
        "    counts = job.result().get_counts()\n",
        "    result = \"Alive 🟢\" if list(counts.keys())[0] == \"0\" else \"Dead 🔴\"\n",
        "    path = _save_histogram(counts, \"cat.png\")\n",
        "    return None, path, None, result\n",
        "\n",
        "# 1964: Bell State\n",
        "def run_bell(shots=1024):\n",
        "    qc = QuantumCircuit(2,2)\n",
        "    qc.h(0)\n",
        "    qc.cx(0,1)\n",
        "    qc.measure_all()\n",
        "    job = execute(qc, BACKEND, shots=shots)\n",
        "    counts = job.result().get_counts()\n",
        "    path = _save_histogram(counts, \"bell.png\")\n",
        "    correlation = 100*sum(counts[k] for k in counts if k in [\"00\",\"11\"])/sum(counts.values())\n",
        "    return None, path, None, {\"counts\": counts, \"correlation_percent\": correlation}\n",
        "\n",
        "# 2125: Quantum Future\n",
        "def run_future(n_qubits=3):\n",
        "    headlines = [\n",
        "        \"🧠 Quantum AI creates new physics models.\",\n",
        "        \"🌍 Quantum Internet connects continents.\",\n",
        "        \"🔐 Quantum security is unbreakable.\",\n",
        "        \"🚀 Quantum travel possible.\",\n",
        "        \"🧬 Brain-mapping via quantum sensors.\",\n",
        "        \"🏙️ Cities optimized by quantum computers.\"\n",
        "    ]\n",
        "    qc = QuantumCircuit(n_qubits,n_qubits)\n",
        "    for q in range(n_qubits):\n",
        "        qc.h(q)\n",
        "    qc.measure_all()\n",
        "    job = execute(qc, BACKEND, shots=1)\n",
        "    outcome = list(job.result().get_counts().keys())[0]\n",
        "    val = int(outcome,2)\n",
        "    headline = headlines[val % len(headlines)]\n",
        "    job2 = execute(qc, BACKEND, shots=1024)\n",
        "    counts = job2.result().get_counts()\n",
        "    path = _save_histogram(counts, \"future.png\")\n",
        "    return None, path, None, {\"random_int\": val, \"headline\": headline}\n"
      ],
      "metadata": {
        "id": "HCqcLwIP75mM"
      },
      "execution_count": null,
      "outputs": []
    },
    {
      "cell_type": "code",
      "source": [
        "import os\n",
        "os.getcwd()\n"
      ],
      "metadata": {
        "id": "1-97VtjY8Itd"
      },
      "execution_count": null,
      "outputs": []
    },
    {
      "cell_type": "code",
      "source": [
        "%cd /content/quantum_time_capsule\n"
      ],
      "metadata": {
        "id": "Vp2TwSrM8LZI"
      },
      "execution_count": null,
      "outputs": []
    },
    {
      "cell_type": "code",
      "source": [
        "!ls\n"
      ],
      "metadata": {
        "id": "e4KCQJbl8OIg"
      },
      "execution_count": null,
      "outputs": []
    },
    {
      "cell_type": "code",
      "source": [
        "import sys\n",
        "if \"/content/quantum_time_capsule\" not in sys.path:\n",
        "    sys.path.append(\"/content/quantum_time_capsule\")\n"
      ],
      "metadata": {
        "id": "U83HrDkE8XBb"
      },
      "execution_count": null,
      "outputs": []
    },
    {
      "cell_type": "code",
      "source": [
        "!pip install qiskit-aer --upgrade\n"
      ],
      "metadata": {
        "id": "gCwfd1jI84Fb"
      },
      "execution_count": null,
      "outputs": []
    },
    {
      "cell_type": "code",
      "source": [
        "!pip uninstall -y qiskit qiskit-aer\n"
      ],
      "metadata": {
        "id": "AeIrcmVJ9BS-"
      },
      "execution_count": null,
      "outputs": []
    },
    {
      "cell_type": "code",
      "source": [
        "!pip install qiskit==0.42.1 qiskit-aer==0.12.1\n"
      ],
      "metadata": {
        "id": "S_neNBRH9DFr"
      },
      "execution_count": null,
      "outputs": []
    },
    {
      "cell_type": "code",
      "source": [
        "!python --version\n"
      ],
      "metadata": {
        "id": "HmGvOiH19iQB"
      },
      "execution_count": null,
      "outputs": []
    },
    {
      "cell_type": "code",
      "source": [
        "!sudo apt-get update -y\n",
        "!sudo apt-get install python3.10 python3.10-distutils -y\n",
        "!sudo update-alternatives --install /usr/bin/python3 python3 /usr/bin/python3.10 1\n",
        "!sudo update-alternatives --config python3\n",
        "!sudo apt-get install python3.10-venv -y\n"
      ],
      "metadata": {
        "id": "zL0DAG299k__"
      },
      "execution_count": null,
      "outputs": []
    },
    {
      "cell_type": "code",
      "source": [
        "!pip install --upgrade pip\n",
        "!pip install qiskit qiskit-aer matplotlib\n"
      ],
      "metadata": {
        "id": "OVdAc6-C9m8H"
      },
      "execution_count": null,
      "outputs": []
    },
    {
      "cell_type": "code",
      "source": [
        "!pip install qiskit\n"
      ],
      "metadata": {
        "id": "CpiK-Xzp-Ch3"
      },
      "execution_count": null,
      "outputs": []
    },
    {
      "cell_type": "code",
      "source": [
        "%%writefile /content/quantum_time_capsule/quantum_scenes.py\n",
        "# /content/quantum_time_capsule/quantum_scenes.py\n",
        "\n",
        "from qiskit import QuantumCircuit, transpile, execute, BasicAer\n",
        "from qiskit.visualization import plot_histogram\n",
        "import matplotlib.pyplot as plt\n",
        "import os, random\n",
        "\n",
        "# Use BasicAer simulator\n",
        "_BACKEND = BasicAer.get_backend('qasm_simulator')\n",
        "\n",
        "# Ensure assets folder exists\n",
        "ASSETS_DIR = \"/content/quantum_time_capsule/assets\"\n",
        "os.makedirs(ASSETS_DIR, exist_ok=True)\n",
        "\n",
        "# Helper function to save histogram\n",
        "def _save_histogram(counts, filepath):\n",
        "    fig = plot_histogram(counts)\n",
        "    fig.savefig(filepath, bbox_inches='tight')\n",
        "    plt.close()\n",
        "    return fig\n",
        "\n",
        "# 1927 Double Slit\n",
        "def run_double_slit(shots=1024):\n",
        "    qc = QuantumCircuit(1,1)\n",
        "    qc.h(0)\n",
        "    qc.measure_all()\n",
        "    job = execute(qc, backend=_BACKEND, shots=shots)\n",
        "    counts = job.result().get_counts()\n",
        "    path = os.path.join(ASSETS_DIR, \"double_slit.png\")\n",
        "    _save_histogram(counts, path)\n",
        "    return None, path, None, {\"counts\": counts}\n",
        "\n",
        "# 1935 Schrödinger's Cat\n",
        "def run_cat(shots=1):\n",
        "    qc = QuantumCircuit(1,1)\n",
        "    qc.h(0)\n",
        "    qc.measure_all()\n",
        "    job = execute(qc, backend=_BACKEND, shots=shots)\n",
        "    counts = job.result().get_counts()\n",
        "    result = \"Alive 🟢\" if list(counts.keys())[0] == \"0\" else \"Dead 🔴\"\n",
        "    path = os.path.join(ASSETS_DIR, \"cat.png\")\n",
        "    _save_histogram(counts, path)\n",
        "    return None, path, None, result\n",
        "\n",
        "# 1964 Bell State\n",
        "def run_bell(shots=1024):\n",
        "    qc = QuantumCircuit(2,2)\n",
        "    qc.h(0)\n",
        "    qc.cx(0,1)\n",
        "    qc.measure_all()\n",
        "    job = execute(qc, backend=_BACKEND, shots=shots)\n",
        "    counts = job.result().get_counts()\n",
        "    path = os.path.join(ASSETS_DIR, \"bell.png\")\n",
        "    _save_histogram(counts, path)\n",
        "    correlation = 100*sum(counts[k] for k in counts if k in [\"00\",\"11\"])/sum(counts.values())\n",
        "    return None, path, None, {\"counts\": counts, \"correlation_percent\": correlation}\n",
        "\n",
        "# 2125 Quantum Future\n",
        "def run_future(n_qubits=3):\n",
        "    headlines = [\n",
        "        \"🧠 Quantum AI creates new physics models.\",\n",
        "        \"🌍 Quantum Internet connects continents.\",\n",
        "        \"🔐 Quantum security is unbreakable.\",\n",
        "        \"🚀 Quantum travel possible.\",\n",
        "        \"🧬 Brain-mapping via quantum sensors.\",\n",
        "        \"🏙️ Cities optimized by quantum computers.\"\n",
        "    ]\n",
        "    qc = QuantumCircuit(n_qubits,n_qubits)\n",
        "    for q in range(n_qubits):\n",
        "        qc.h(q)\n",
        "    qc.measure_all()\n",
        "\n",
        "    # Run once to pick a “future headline”\n",
        "    job = execute(qc, backend=_BACKEND, shots=1)\n",
        "    outcome = list(job.result().get_counts().keys())[0]\n",
        "    val = int(outcome,2)\n",
        "    headline = headlines[val % len(headlines)]\n",
        "\n",
        "    # Run for histogram\n",
        "    job2 = execute(qc, backend=_BACKEND, shots=1024)\n",
        "    counts = job2.result().get_counts()\n",
        "    path = os.path.join(ASSETS_DIR, \"future.png\")\n",
        "    _save_histogram(counts, path)\n",
        "\n",
        "    return None, path, None, headline\n"
      ],
      "metadata": {
        "id": "jWYTcZpU-L1g"
      },
      "execution_count": null,
      "outputs": []
    },
    {
      "cell_type": "code",
      "source": [
        "import sys\n",
        "PROJECT_DIR = \"/content/quantum_time_capsule\"\n",
        "if PROJECT_DIR not in sys.path:\n",
        "    sys.path.append(PROJECT_DIR)\n"
      ],
      "metadata": {
        "id": "14qrFZMs-TJZ"
      },
      "execution_count": null,
      "outputs": []
    },
    {
      "cell_type": "code",
      "source": [
        "!pip install qiskit --upgrade\n",
        "!pip install qiskit-aer --upgrade\n"
      ],
      "metadata": {
        "id": "2Jxyc_pF_UjX"
      },
      "execution_count": null,
      "outputs": []
    },
    {
      "cell_type": "code",
      "source": [
        "!pip install qiskit qiskit-aer matplotlib\n"
      ],
      "metadata": {
        "id": "Z5AJr1m4_mk_"
      },
      "execution_count": null,
      "outputs": []
    },
    {
      "cell_type": "code",
      "source": [
        "import os\n",
        "from pyngrok import ngrok\n",
        "import streamlit as st\n",
        "from PIL import Image\n"
      ],
      "metadata": {
        "id": "bO-sfLlZBeh2"
      },
      "execution_count": null,
      "outputs": []
    },
    {
      "cell_type": "code",
      "source": [
        "!pip install --upgrade qiskit qiskit-aer streamlit matplotlib pyngrok gTTS\n"
      ],
      "metadata": {
        "id": "_Yd3xiw0BiAJ"
      },
      "execution_count": null,
      "outputs": []
    },
    {
      "cell_type": "code",
      "source": [
        "import os\n",
        "from pyngrok import ngrok\n",
        "import streamlit as st\n",
        "from PIL import Image\n"
      ],
      "metadata": {
        "id": "gfn1eOROBk8L"
      },
      "execution_count": null,
      "outputs": []
    },
    {
      "cell_type": "code",
      "source": [
        "os.makedirs(\"assets\", exist_ok=True)\n"
      ],
      "metadata": {
        "id": "s5J-T1FIBnz2"
      },
      "execution_count": null,
      "outputs": []
    }
  ]
}